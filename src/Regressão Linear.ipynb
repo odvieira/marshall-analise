{
 "cells": [
  {
   "cell_type": "code",
   "execution_count": 40,
   "metadata": {},
   "outputs": [],
   "source": [
    "import pandas as pd\n",
    "\n",
    "pd.set_option('display.max_columns', None)\n",
    "#pd.reset_option('display.max_rows')\n",
    "pd.set_option('display.max_rows', 20)  # ao invés de none pode por INT do limite\n",
    "pd.set_option('display.max_colwidth', 15)"
   ]
  },
  {
   "cell_type": "code",
   "execution_count": 41,
   "metadata": {},
   "outputs": [],
   "source": [
    "df = pd.read_csv('../data/df_subvar_9-10.csv')"
   ]
  },
  {
   "cell_type": "code",
   "execution_count": 42,
   "metadata": {},
   "outputs": [
    {
     "data": {
      "text/plain": [
       "2984"
      ]
     },
     "execution_count": 42,
     "metadata": {},
     "output_type": "execute_result"
    }
   ],
   "source": [
    "len(df)"
   ]
  },
  {
   "cell_type": "code",
   "execution_count": 43,
   "metadata": {},
   "outputs": [
    {
     "data": {
      "text/plain": [
       "'Sion Castro, Marcelino'"
      ]
     },
     "execution_count": 43,
     "metadata": {},
     "output_type": "execute_result"
    }
   ],
   "source": [
    "df['White'][1000]"
   ]
  },
  {
   "cell_type": "code",
   "execution_count": 44,
   "metadata": {},
   "outputs": [
    {
     "data": {
      "text/html": [
       "<div>\n",
       "<style scoped>\n",
       "    .dataframe tbody tr th:only-of-type {\n",
       "        vertical-align: middle;\n",
       "    }\n",
       "\n",
       "    .dataframe tbody tr th {\n",
       "        vertical-align: top;\n",
       "    }\n",
       "\n",
       "    .dataframe thead th {\n",
       "        text-align: right;\n",
       "    }\n",
       "</style>\n",
       "<table border=\"1\" class=\"dataframe\">\n",
       "  <thead>\n",
       "    <tr style=\"text-align: right;\">\n",
       "      <th></th>\n",
       "      <th>Name</th>\n",
       "      <th>Fed</th>\n",
       "    </tr>\n",
       "  </thead>\n",
       "  <tbody>\n",
       "    <tr>\n",
       "      <th>0</th>\n",
       "      <td>A Abdel Maa...</td>\n",
       "      <td>EGY</td>\n",
       "    </tr>\n",
       "    <tr>\n",
       "      <th>1</th>\n",
       "      <td>A Aman</td>\n",
       "      <td>IND</td>\n",
       "    </tr>\n",
       "    <tr>\n",
       "      <th>2</th>\n",
       "      <td>A B M Hasib...</td>\n",
       "      <td>BAN</td>\n",
       "    </tr>\n",
       "    <tr>\n",
       "      <th>3</th>\n",
       "      <td>A B M Jobai...</td>\n",
       "      <td>BAN</td>\n",
       "    </tr>\n",
       "    <tr>\n",
       "      <th>4</th>\n",
       "      <td>A B M Musta...</td>\n",
       "      <td>BAN</td>\n",
       "    </tr>\n",
       "  </tbody>\n",
       "</table>\n",
       "</div>"
      ],
      "text/plain": [
       "             Name  Fed\n",
       "0  A Abdel Maa...  EGY\n",
       "1          A Aman  IND\n",
       "2  A B M Hasib...  BAN\n",
       "3  A B M Jobai...  BAN\n",
       "4  A B M Musta...  BAN"
      ]
     },
     "execution_count": 44,
     "metadata": {},
     "output_type": "execute_result"
    }
   ],
   "source": [
    "df_players = pd.read_csv('../data/players_list_fide.csv', sep=';')\n",
    "df_players.head()"
   ]
  },
  {
   "cell_type": "code",
   "execution_count": 45,
   "metadata": {},
   "outputs": [
    {
     "data": {
      "text/plain": [
       "245"
      ]
     },
     "execution_count": 45,
     "metadata": {},
     "output_type": "execute_result"
    }
   ],
   "source": [
    "len(df_players['Fed'].unique())"
   ]
  },
  {
   "cell_type": "code",
   "execution_count": 46,
   "metadata": {},
   "outputs": [
    {
     "data": {
      "text/plain": [
       "Index(['Name', 'Fed'], dtype='object')"
      ]
     },
     "execution_count": 46,
     "metadata": {},
     "output_type": "execute_result"
    }
   ],
   "source": [
    "df_players.columns"
   ]
  },
  {
   "cell_type": "code",
   "execution_count": 47,
   "metadata": {},
   "outputs": [
    {
     "data": {
      "text/plain": [
       "[]"
      ]
     },
     "execution_count": 47,
     "metadata": {},
     "output_type": "execute_result"
    }
   ],
   "source": [
    "#df_players.loc[df_players['Name'] == 'Sion Castro, Marcelino']['Fed'].tolist()\n",
    "df_players.loc[df_players['Name'] == 'Morrison, John Stuart']['Fed'].tolist()"
   ]
  },
  {
   "cell_type": "code",
   "execution_count": 48,
   "metadata": {},
   "outputs": [
    {
     "name": "stdout",
     "output_type": "stream",
     "text": [
      "2983\t\t\r"
     ]
    }
   ],
   "source": [
    "count = -1\n",
    "for index, row in df.iterrows():\n",
    "    count += 1\n",
    "    print('{0}\\t\\t'.format(count), end='\\r')\n",
    "    white = row['White']\n",
    "    black = row['Black']\n",
    "\n",
    "    wname = df_players.loc[df_players['Name'] == white]['Fed'].tolist()\n",
    "    bname = df_players.loc[df_players['Name'] == black]['Fed'].tolist()\n",
    "\n",
    "    if wname == []:\n",
    "        df.loc[index, 'WhiteNationality'] = np.NaN\n",
    "    else:\n",
    "        df.loc[index, 'WhiteNationality'] = wname[0]\n",
    "    if bname == []:\n",
    "        df.loc[index, 'BlackNationality'] = np.NaN\n",
    "    else:\n",
    "        df.loc[index, 'BlackNationality'] = bname[0]\n",
    "\n"
   ]
  },
  {
   "cell_type": "code",
   "execution_count": 49,
   "metadata": {},
   "outputs": [],
   "source": [
    "copia = df.copy()"
   ]
  },
  {
   "cell_type": "code",
   "execution_count": 104,
   "metadata": {},
   "outputs": [],
   "source": [
    "df = copia.copy()"
   ]
  },
  {
   "cell_type": "code",
   "execution_count": 105,
   "metadata": {},
   "outputs": [],
   "source": [
    "#df = df.loc[(df['WhiteElo'] >= 2000) | (df['WhiteElo'].isna())]\n",
    "#df = df.loc[(df['BlackElo'] >= 2000) | (df['BlackElo'].isna())]"
   ]
  },
  {
   "cell_type": "code",
   "execution_count": 106,
   "metadata": {},
   "outputs": [
    {
     "data": {
      "text/plain": [
       "Index(['id', 'Event', 'Site', 'Date', 'White', 'Black', 'Result', 'BlackElo',\n",
       "       'ECO', 'WhiteElo', 'WhiteWon', 'BlackWon', 'Moves',\n",
       "       'WhiteFinalPiecesCount', 'BlackFinalPiecesCount', 'FinalPiecesCount',\n",
       "       'QueenTrade', 'Evals', 'MaxEval', 'MinEval', 'FinalEval', 'W<=10',\n",
       "       'W<=25', 'W<=50', 'W<=100', 'W<=200', 'W<=500', 'W>500', 'B<=10',\n",
       "       'B<=25', 'B<=50', 'B<=100', 'B<=200', 'B<=500', 'B>500', 'Wprojection',\n",
       "       'Bprojection', 'DifProjection', 'Plays', 'SubVariation', 'Mainline',\n",
       "       'WhiteNationality', 'BlackNationality', 'WGoodMoves', 'BGoodMoves',\n",
       "       'WBadMoves', 'BBadMoves'],\n",
       "      dtype='object')"
      ]
     },
     "execution_count": 106,
     "metadata": {},
     "output_type": "execute_result"
    }
   ],
   "source": [
    "df['WGoodMoves'] = df['W<=10'] + df['W<=25'] + df['W<=50']\n",
    "df['BGoodMoves'] = df['B<=10'] + df['B<=25'] + df['B<=50']\n",
    "df['WBadMoves'] = df['W<=100'] + df['W<=200'] + df['W<=500'] + df['W>500']\n",
    "df['BBadMoves'] = df['B<=100'] + df['B<=200'] + df['B<=500'] + df['B>500']\n",
    "df.columns\n",
    "\t\t"
   ]
  },
  {
   "cell_type": "code",
   "execution_count": 107,
   "metadata": {},
   "outputs": [],
   "source": [
    "df = df[['Date', 'BlackElo', 'WhiteElo', 'SubVariation', 'WGoodMoves','BGoodMoves', 'WBadMoves', 'BBadMoves', 'WhiteNationality', 'BlackNationality']]"
   ]
  },
  {
   "cell_type": "code",
   "execution_count": 108,
   "metadata": {},
   "outputs": [
    {
     "data": {
      "text/html": [
       "<div>\n",
       "<style scoped>\n",
       "    .dataframe tbody tr th:only-of-type {\n",
       "        vertical-align: middle;\n",
       "    }\n",
       "\n",
       "    .dataframe tbody tr th {\n",
       "        vertical-align: top;\n",
       "    }\n",
       "\n",
       "    .dataframe thead th {\n",
       "        text-align: right;\n",
       "    }\n",
       "</style>\n",
       "<table border=\"1\" class=\"dataframe\">\n",
       "  <thead>\n",
       "    <tr style=\"text-align: right;\">\n",
       "      <th></th>\n",
       "      <th>Date</th>\n",
       "      <th>BlackElo</th>\n",
       "      <th>WhiteElo</th>\n",
       "      <th>SubVariation</th>\n",
       "      <th>WGoodMoves</th>\n",
       "      <th>BGoodMoves</th>\n",
       "      <th>WBadMoves</th>\n",
       "      <th>BBadMoves</th>\n",
       "      <th>WhiteNationality</th>\n",
       "      <th>BlackNationality</th>\n",
       "    </tr>\n",
       "  </thead>\n",
       "  <tbody>\n",
       "    <tr>\n",
       "      <th>0</th>\n",
       "      <td>1918</td>\n",
       "      <td>NaN</td>\n",
       "      <td>NaN</td>\n",
       "      <td>9. exd5 Nxd...</td>\n",
       "      <td>47</td>\n",
       "      <td>72</td>\n",
       "      <td>24</td>\n",
       "      <td>12</td>\n",
       "      <td>NaN</td>\n",
       "      <td>NaN</td>\n",
       "    </tr>\n",
       "    <tr>\n",
       "      <th>1</th>\n",
       "      <td>1918</td>\n",
       "      <td>NaN</td>\n",
       "      <td>NaN</td>\n",
       "      <td>9. exd5 Nxd...</td>\n",
       "      <td>21</td>\n",
       "      <td>27</td>\n",
       "      <td>4</td>\n",
       "      <td>8</td>\n",
       "      <td>NaN</td>\n",
       "      <td>NaN</td>\n",
       "    </tr>\n",
       "    <tr>\n",
       "      <th>2</th>\n",
       "      <td>1921</td>\n",
       "      <td>NaN</td>\n",
       "      <td>NaN</td>\n",
       "      <td>9. exd5 Nxd...</td>\n",
       "      <td>13</td>\n",
       "      <td>14</td>\n",
       "      <td>0</td>\n",
       "      <td>2</td>\n",
       "      <td>NaN</td>\n",
       "      <td>NaN</td>\n",
       "    </tr>\n",
       "    <tr>\n",
       "      <th>3</th>\n",
       "      <td>1921</td>\n",
       "      <td>NaN</td>\n",
       "      <td>NaN</td>\n",
       "      <td>9. exd5 Nxd...</td>\n",
       "      <td>14</td>\n",
       "      <td>15</td>\n",
       "      <td>2</td>\n",
       "      <td>3</td>\n",
       "      <td>NaN</td>\n",
       "      <td>NaN</td>\n",
       "    </tr>\n",
       "    <tr>\n",
       "      <th>4</th>\n",
       "      <td>1926</td>\n",
       "      <td>NaN</td>\n",
       "      <td>NaN</td>\n",
       "      <td>9. exd5 Nxd...</td>\n",
       "      <td>13</td>\n",
       "      <td>18</td>\n",
       "      <td>3</td>\n",
       "      <td>1</td>\n",
       "      <td>NaN</td>\n",
       "      <td>NaN</td>\n",
       "    </tr>\n",
       "    <tr>\n",
       "      <th>...</th>\n",
       "      <td>...</td>\n",
       "      <td>...</td>\n",
       "      <td>...</td>\n",
       "      <td>...</td>\n",
       "      <td>...</td>\n",
       "      <td>...</td>\n",
       "      <td>...</td>\n",
       "      <td>...</td>\n",
       "      <td>...</td>\n",
       "      <td>...</td>\n",
       "    </tr>\n",
       "    <tr>\n",
       "      <th>2979</th>\n",
       "      <td>2021</td>\n",
       "      <td>2668.0</td>\n",
       "      <td>2430.0</td>\n",
       "      <td>9. exd5 Nxd...</td>\n",
       "      <td>39</td>\n",
       "      <td>45</td>\n",
       "      <td>7</td>\n",
       "      <td>9</td>\n",
       "      <td>NaN</td>\n",
       "      <td>NaN</td>\n",
       "    </tr>\n",
       "    <tr>\n",
       "      <th>2980</th>\n",
       "      <td>2021</td>\n",
       "      <td>2300.0</td>\n",
       "      <td>2466.0</td>\n",
       "      <td>9. exd5 Nxd...</td>\n",
       "      <td>32</td>\n",
       "      <td>38</td>\n",
       "      <td>9</td>\n",
       "      <td>12</td>\n",
       "      <td>NaN</td>\n",
       "      <td>NaN</td>\n",
       "    </tr>\n",
       "    <tr>\n",
       "      <th>2981</th>\n",
       "      <td>2021</td>\n",
       "      <td>2792.0</td>\n",
       "      <td>2743.0</td>\n",
       "      <td>9. exd5 Nxd...</td>\n",
       "      <td>30</td>\n",
       "      <td>34</td>\n",
       "      <td>1</td>\n",
       "      <td>2</td>\n",
       "      <td>NaN</td>\n",
       "      <td>NaN</td>\n",
       "    </tr>\n",
       "    <tr>\n",
       "      <th>2982</th>\n",
       "      <td>2021</td>\n",
       "      <td>2491.0</td>\n",
       "      <td>2100.0</td>\n",
       "      <td>9. exd5 Nxd...</td>\n",
       "      <td>31</td>\n",
       "      <td>33</td>\n",
       "      <td>2</td>\n",
       "      <td>8</td>\n",
       "      <td>NaN</td>\n",
       "      <td>NaN</td>\n",
       "    </tr>\n",
       "    <tr>\n",
       "      <th>2983</th>\n",
       "      <td>2021</td>\n",
       "      <td>2301.0</td>\n",
       "      <td>2492.0</td>\n",
       "      <td>9. exd5 Nxd...</td>\n",
       "      <td>68</td>\n",
       "      <td>76</td>\n",
       "      <td>11</td>\n",
       "      <td>11</td>\n",
       "      <td>NaN</td>\n",
       "      <td>NaN</td>\n",
       "    </tr>\n",
       "  </tbody>\n",
       "</table>\n",
       "<p>2984 rows × 10 columns</p>\n",
       "</div>"
      ],
      "text/plain": [
       "      Date  BlackElo  WhiteElo    SubVariation  WGoodMoves  BGoodMoves  \\\n",
       "0     1918       NaN       NaN  9. exd5 Nxd...          47          72   \n",
       "1     1918       NaN       NaN  9. exd5 Nxd...          21          27   \n",
       "2     1921       NaN       NaN  9. exd5 Nxd...          13          14   \n",
       "3     1921       NaN       NaN  9. exd5 Nxd...          14          15   \n",
       "4     1926       NaN       NaN  9. exd5 Nxd...          13          18   \n",
       "...    ...       ...       ...             ...         ...         ...   \n",
       "2979  2021    2668.0    2430.0  9. exd5 Nxd...          39          45   \n",
       "2980  2021    2300.0    2466.0  9. exd5 Nxd...          32          38   \n",
       "2981  2021    2792.0    2743.0  9. exd5 Nxd...          30          34   \n",
       "2982  2021    2491.0    2100.0  9. exd5 Nxd...          31          33   \n",
       "2983  2021    2301.0    2492.0  9. exd5 Nxd...          68          76   \n",
       "\n",
       "      WBadMoves  BBadMoves WhiteNationality BlackNationality  \n",
       "0            24         12             NaN              NaN   \n",
       "1             4          8             NaN              NaN   \n",
       "2             0          2             NaN              NaN   \n",
       "3             2          3             NaN              NaN   \n",
       "4             3          1             NaN              NaN   \n",
       "...         ...        ...             ...              ...   \n",
       "2979          7          9             NaN              NaN   \n",
       "2980          9         12             NaN              NaN   \n",
       "2981          1          2             NaN              NaN   \n",
       "2982          2          8             NaN              NaN   \n",
       "2983         11         11             NaN              NaN   \n",
       "\n",
       "[2984 rows x 10 columns]"
      ]
     },
     "execution_count": 108,
     "metadata": {},
     "output_type": "execute_result"
    }
   ],
   "source": [
    "df"
   ]
  },
  {
   "cell_type": "code",
   "execution_count": 109,
   "metadata": {},
   "outputs": [],
   "source": [
    "# Separar nas sete variações mais comuns e nas demais\n",
    "common_variations = ['9. d3 dxe4 10. dxe4 Qxd1',\n",
    "'9. d4 Nxe4 10. dxe5 Be6',\n",
    "'9. d4 exd4 10. e5 Ne4',\n",
    "'9. exd5 Nxd5 10. Nxe5 Nxe5',\n",
    "'9. exd5 Nxd5 10. d4 exd4',\n",
    "'9. exd5 e4 10. Ng5 Bg4',\n",
    "'9. exd5 e4 10. dxc6 exf3']\n",
    "\n",
    "for index, row in df.iterrows():\n",
    "    if row['SubVariation'] not in common_variations:\n",
    "        df.loc[index, 'SubVariation'] = 'Other'\n"
   ]
  },
  {
   "cell_type": "code",
   "execution_count": 110,
   "metadata": {},
   "outputs": [
    {
     "data": {
      "text/html": [
       "<div>\n",
       "<style scoped>\n",
       "    .dataframe tbody tr th:only-of-type {\n",
       "        vertical-align: middle;\n",
       "    }\n",
       "\n",
       "    .dataframe tbody tr th {\n",
       "        vertical-align: top;\n",
       "    }\n",
       "\n",
       "    .dataframe thead th {\n",
       "        text-align: right;\n",
       "    }\n",
       "</style>\n",
       "<table border=\"1\" class=\"dataframe\">\n",
       "  <thead>\n",
       "    <tr style=\"text-align: right;\">\n",
       "      <th></th>\n",
       "      <th>Date</th>\n",
       "      <th>BlackElo</th>\n",
       "      <th>WhiteElo</th>\n",
       "      <th>SubVariation</th>\n",
       "      <th>WGoodMoves</th>\n",
       "      <th>BGoodMoves</th>\n",
       "      <th>WBadMoves</th>\n",
       "      <th>BBadMoves</th>\n",
       "      <th>WhiteNationality</th>\n",
       "      <th>BlackNationality</th>\n",
       "    </tr>\n",
       "  </thead>\n",
       "  <tbody>\n",
       "    <tr>\n",
       "      <th>0</th>\n",
       "      <td>1918</td>\n",
       "      <td>NaN</td>\n",
       "      <td>NaN</td>\n",
       "      <td>9. exd5 Nxd...</td>\n",
       "      <td>47</td>\n",
       "      <td>72</td>\n",
       "      <td>24</td>\n",
       "      <td>12</td>\n",
       "      <td>NaN</td>\n",
       "      <td>NaN</td>\n",
       "    </tr>\n",
       "    <tr>\n",
       "      <th>1</th>\n",
       "      <td>1918</td>\n",
       "      <td>NaN</td>\n",
       "      <td>NaN</td>\n",
       "      <td>9. exd5 Nxd...</td>\n",
       "      <td>21</td>\n",
       "      <td>27</td>\n",
       "      <td>4</td>\n",
       "      <td>8</td>\n",
       "      <td>NaN</td>\n",
       "      <td>NaN</td>\n",
       "    </tr>\n",
       "    <tr>\n",
       "      <th>2</th>\n",
       "      <td>1921</td>\n",
       "      <td>NaN</td>\n",
       "      <td>NaN</td>\n",
       "      <td>9. exd5 Nxd...</td>\n",
       "      <td>13</td>\n",
       "      <td>14</td>\n",
       "      <td>0</td>\n",
       "      <td>2</td>\n",
       "      <td>NaN</td>\n",
       "      <td>NaN</td>\n",
       "    </tr>\n",
       "    <tr>\n",
       "      <th>3</th>\n",
       "      <td>1921</td>\n",
       "      <td>NaN</td>\n",
       "      <td>NaN</td>\n",
       "      <td>9. exd5 Nxd...</td>\n",
       "      <td>14</td>\n",
       "      <td>15</td>\n",
       "      <td>2</td>\n",
       "      <td>3</td>\n",
       "      <td>NaN</td>\n",
       "      <td>NaN</td>\n",
       "    </tr>\n",
       "    <tr>\n",
       "      <th>4</th>\n",
       "      <td>1926</td>\n",
       "      <td>NaN</td>\n",
       "      <td>NaN</td>\n",
       "      <td>9. exd5 Nxd...</td>\n",
       "      <td>13</td>\n",
       "      <td>18</td>\n",
       "      <td>3</td>\n",
       "      <td>1</td>\n",
       "      <td>NaN</td>\n",
       "      <td>NaN</td>\n",
       "    </tr>\n",
       "    <tr>\n",
       "      <th>...</th>\n",
       "      <td>...</td>\n",
       "      <td>...</td>\n",
       "      <td>...</td>\n",
       "      <td>...</td>\n",
       "      <td>...</td>\n",
       "      <td>...</td>\n",
       "      <td>...</td>\n",
       "      <td>...</td>\n",
       "      <td>...</td>\n",
       "      <td>...</td>\n",
       "    </tr>\n",
       "    <tr>\n",
       "      <th>2979</th>\n",
       "      <td>2021</td>\n",
       "      <td>2668.0</td>\n",
       "      <td>2430.0</td>\n",
       "      <td>9. exd5 Nxd...</td>\n",
       "      <td>39</td>\n",
       "      <td>45</td>\n",
       "      <td>7</td>\n",
       "      <td>9</td>\n",
       "      <td>NaN</td>\n",
       "      <td>NaN</td>\n",
       "    </tr>\n",
       "    <tr>\n",
       "      <th>2980</th>\n",
       "      <td>2021</td>\n",
       "      <td>2300.0</td>\n",
       "      <td>2466.0</td>\n",
       "      <td>9. exd5 Nxd...</td>\n",
       "      <td>32</td>\n",
       "      <td>38</td>\n",
       "      <td>9</td>\n",
       "      <td>12</td>\n",
       "      <td>NaN</td>\n",
       "      <td>NaN</td>\n",
       "    </tr>\n",
       "    <tr>\n",
       "      <th>2981</th>\n",
       "      <td>2021</td>\n",
       "      <td>2792.0</td>\n",
       "      <td>2743.0</td>\n",
       "      <td>9. exd5 Nxd...</td>\n",
       "      <td>30</td>\n",
       "      <td>34</td>\n",
       "      <td>1</td>\n",
       "      <td>2</td>\n",
       "      <td>NaN</td>\n",
       "      <td>NaN</td>\n",
       "    </tr>\n",
       "    <tr>\n",
       "      <th>2982</th>\n",
       "      <td>2021</td>\n",
       "      <td>2491.0</td>\n",
       "      <td>2100.0</td>\n",
       "      <td>9. exd5 Nxd...</td>\n",
       "      <td>31</td>\n",
       "      <td>33</td>\n",
       "      <td>2</td>\n",
       "      <td>8</td>\n",
       "      <td>NaN</td>\n",
       "      <td>NaN</td>\n",
       "    </tr>\n",
       "    <tr>\n",
       "      <th>2983</th>\n",
       "      <td>2021</td>\n",
       "      <td>2301.0</td>\n",
       "      <td>2492.0</td>\n",
       "      <td>9. exd5 Nxd...</td>\n",
       "      <td>68</td>\n",
       "      <td>76</td>\n",
       "      <td>11</td>\n",
       "      <td>11</td>\n",
       "      <td>NaN</td>\n",
       "      <td>NaN</td>\n",
       "    </tr>\n",
       "  </tbody>\n",
       "</table>\n",
       "<p>2984 rows × 10 columns</p>\n",
       "</div>"
      ],
      "text/plain": [
       "      Date  BlackElo  WhiteElo    SubVariation  WGoodMoves  BGoodMoves  \\\n",
       "0     1918       NaN       NaN  9. exd5 Nxd...          47          72   \n",
       "1     1918       NaN       NaN  9. exd5 Nxd...          21          27   \n",
       "2     1921       NaN       NaN  9. exd5 Nxd...          13          14   \n",
       "3     1921       NaN       NaN  9. exd5 Nxd...          14          15   \n",
       "4     1926       NaN       NaN  9. exd5 Nxd...          13          18   \n",
       "...    ...       ...       ...             ...         ...         ...   \n",
       "2979  2021    2668.0    2430.0  9. exd5 Nxd...          39          45   \n",
       "2980  2021    2300.0    2466.0  9. exd5 Nxd...          32          38   \n",
       "2981  2021    2792.0    2743.0  9. exd5 Nxd...          30          34   \n",
       "2982  2021    2491.0    2100.0  9. exd5 Nxd...          31          33   \n",
       "2983  2021    2301.0    2492.0  9. exd5 Nxd...          68          76   \n",
       "\n",
       "      WBadMoves  BBadMoves WhiteNationality BlackNationality  \n",
       "0            24         12             NaN              NaN   \n",
       "1             4          8             NaN              NaN   \n",
       "2             0          2             NaN              NaN   \n",
       "3             2          3             NaN              NaN   \n",
       "4             3          1             NaN              NaN   \n",
       "...         ...        ...             ...              ...   \n",
       "2979          7          9             NaN              NaN   \n",
       "2980          9         12             NaN              NaN   \n",
       "2981          1          2             NaN              NaN   \n",
       "2982          2          8             NaN              NaN   \n",
       "2983         11         11             NaN              NaN   \n",
       "\n",
       "[2984 rows x 10 columns]"
      ]
     },
     "execution_count": 110,
     "metadata": {},
     "output_type": "execute_result"
    }
   ],
   "source": [
    "df"
   ]
  },
  {
   "cell_type": "code",
   "execution_count": 111,
   "metadata": {},
   "outputs": [
    {
     "name": "stdout",
     "output_type": "stream",
     "text": [
      "8\n"
     ]
    },
    {
     "data": {
      "text/plain": [
       "['9. exd5 Nxd5 10. d4 exd4',\n",
       " '9. exd5 Nxd5 10. Nxe5 Nxe5',\n",
       " 'Other',\n",
       " '9. exd5 e4 10. dxc6 exf3',\n",
       " '9. d3 dxe4 10. dxe4 Qxd1',\n",
       " '9. d4 Nxe4 10. dxe5 Be6',\n",
       " '9. d4 exd4 10. e5 Ne4',\n",
       " '9. exd5 e4 10. Ng5 Bg4']"
      ]
     },
     "execution_count": 111,
     "metadata": {},
     "output_type": "execute_result"
    }
   ],
   "source": [
    "variations = df['SubVariation'].unique().tolist()\n",
    "print(len(variations))\n",
    "variations"
   ]
  },
  {
   "cell_type": "code",
   "execution_count": 113,
   "metadata": {},
   "outputs": [
    {
     "data": {
      "text/html": [
       "<div>\n",
       "<style scoped>\n",
       "    .dataframe tbody tr th:only-of-type {\n",
       "        vertical-align: middle;\n",
       "    }\n",
       "\n",
       "    .dataframe tbody tr th {\n",
       "        vertical-align: top;\n",
       "    }\n",
       "\n",
       "    .dataframe thead th {\n",
       "        text-align: right;\n",
       "    }\n",
       "</style>\n",
       "<table border=\"1\" class=\"dataframe\">\n",
       "  <thead>\n",
       "    <tr style=\"text-align: right;\">\n",
       "      <th></th>\n",
       "      <th>Date</th>\n",
       "      <th>BlackElo</th>\n",
       "      <th>WhiteElo</th>\n",
       "      <th>SubVariation</th>\n",
       "      <th>WGoodMoves</th>\n",
       "      <th>BGoodMoves</th>\n",
       "      <th>WBadMoves</th>\n",
       "      <th>BBadMoves</th>\n",
       "      <th>WhiteNationality</th>\n",
       "      <th>BlackNationality</th>\n",
       "    </tr>\n",
       "  </thead>\n",
       "  <tbody>\n",
       "    <tr>\n",
       "      <th>0</th>\n",
       "      <td>1918</td>\n",
       "      <td>NaN</td>\n",
       "      <td>NaN</td>\n",
       "      <td>9. exd5 Nxd...</td>\n",
       "      <td>47</td>\n",
       "      <td>72</td>\n",
       "      <td>24</td>\n",
       "      <td>12</td>\n",
       "      <td>NaN</td>\n",
       "      <td>NaN</td>\n",
       "    </tr>\n",
       "    <tr>\n",
       "      <th>1</th>\n",
       "      <td>1918</td>\n",
       "      <td>NaN</td>\n",
       "      <td>NaN</td>\n",
       "      <td>9. exd5 Nxd...</td>\n",
       "      <td>21</td>\n",
       "      <td>27</td>\n",
       "      <td>4</td>\n",
       "      <td>8</td>\n",
       "      <td>NaN</td>\n",
       "      <td>NaN</td>\n",
       "    </tr>\n",
       "    <tr>\n",
       "      <th>2</th>\n",
       "      <td>1921</td>\n",
       "      <td>NaN</td>\n",
       "      <td>NaN</td>\n",
       "      <td>9. exd5 Nxd...</td>\n",
       "      <td>13</td>\n",
       "      <td>14</td>\n",
       "      <td>0</td>\n",
       "      <td>2</td>\n",
       "      <td>NaN</td>\n",
       "      <td>NaN</td>\n",
       "    </tr>\n",
       "    <tr>\n",
       "      <th>3</th>\n",
       "      <td>1921</td>\n",
       "      <td>NaN</td>\n",
       "      <td>NaN</td>\n",
       "      <td>9. exd5 Nxd...</td>\n",
       "      <td>14</td>\n",
       "      <td>15</td>\n",
       "      <td>2</td>\n",
       "      <td>3</td>\n",
       "      <td>NaN</td>\n",
       "      <td>NaN</td>\n",
       "    </tr>\n",
       "    <tr>\n",
       "      <th>4</th>\n",
       "      <td>1926</td>\n",
       "      <td>NaN</td>\n",
       "      <td>NaN</td>\n",
       "      <td>9. exd5 Nxd...</td>\n",
       "      <td>13</td>\n",
       "      <td>18</td>\n",
       "      <td>3</td>\n",
       "      <td>1</td>\n",
       "      <td>NaN</td>\n",
       "      <td>NaN</td>\n",
       "    </tr>\n",
       "    <tr>\n",
       "      <th>...</th>\n",
       "      <td>...</td>\n",
       "      <td>...</td>\n",
       "      <td>...</td>\n",
       "      <td>...</td>\n",
       "      <td>...</td>\n",
       "      <td>...</td>\n",
       "      <td>...</td>\n",
       "      <td>...</td>\n",
       "      <td>...</td>\n",
       "      <td>...</td>\n",
       "    </tr>\n",
       "    <tr>\n",
       "      <th>2979</th>\n",
       "      <td>2021</td>\n",
       "      <td>2668.0</td>\n",
       "      <td>2430.0</td>\n",
       "      <td>9. exd5 Nxd...</td>\n",
       "      <td>39</td>\n",
       "      <td>45</td>\n",
       "      <td>7</td>\n",
       "      <td>9</td>\n",
       "      <td>NaN</td>\n",
       "      <td>NaN</td>\n",
       "    </tr>\n",
       "    <tr>\n",
       "      <th>2980</th>\n",
       "      <td>2021</td>\n",
       "      <td>2300.0</td>\n",
       "      <td>2466.0</td>\n",
       "      <td>9. exd5 Nxd...</td>\n",
       "      <td>32</td>\n",
       "      <td>38</td>\n",
       "      <td>9</td>\n",
       "      <td>12</td>\n",
       "      <td>NaN</td>\n",
       "      <td>NaN</td>\n",
       "    </tr>\n",
       "    <tr>\n",
       "      <th>2981</th>\n",
       "      <td>2021</td>\n",
       "      <td>2792.0</td>\n",
       "      <td>2743.0</td>\n",
       "      <td>9. exd5 Nxd...</td>\n",
       "      <td>30</td>\n",
       "      <td>34</td>\n",
       "      <td>1</td>\n",
       "      <td>2</td>\n",
       "      <td>NaN</td>\n",
       "      <td>NaN</td>\n",
       "    </tr>\n",
       "    <tr>\n",
       "      <th>2982</th>\n",
       "      <td>2021</td>\n",
       "      <td>2491.0</td>\n",
       "      <td>2100.0</td>\n",
       "      <td>9. exd5 Nxd...</td>\n",
       "      <td>31</td>\n",
       "      <td>33</td>\n",
       "      <td>2</td>\n",
       "      <td>8</td>\n",
       "      <td>NaN</td>\n",
       "      <td>NaN</td>\n",
       "    </tr>\n",
       "    <tr>\n",
       "      <th>2983</th>\n",
       "      <td>2021</td>\n",
       "      <td>2301.0</td>\n",
       "      <td>2492.0</td>\n",
       "      <td>9. exd5 Nxd...</td>\n",
       "      <td>68</td>\n",
       "      <td>76</td>\n",
       "      <td>11</td>\n",
       "      <td>11</td>\n",
       "      <td>NaN</td>\n",
       "      <td>NaN</td>\n",
       "    </tr>\n",
       "  </tbody>\n",
       "</table>\n",
       "<p>2984 rows × 10 columns</p>\n",
       "</div>"
      ],
      "text/plain": [
       "      Date  BlackElo  WhiteElo    SubVariation  WGoodMoves  BGoodMoves  \\\n",
       "0     1918       NaN       NaN  9. exd5 Nxd...          47          72   \n",
       "1     1918       NaN       NaN  9. exd5 Nxd...          21          27   \n",
       "2     1921       NaN       NaN  9. exd5 Nxd...          13          14   \n",
       "3     1921       NaN       NaN  9. exd5 Nxd...          14          15   \n",
       "4     1926       NaN       NaN  9. exd5 Nxd...          13          18   \n",
       "...    ...       ...       ...             ...         ...         ...   \n",
       "2979  2021    2668.0    2430.0  9. exd5 Nxd...          39          45   \n",
       "2980  2021    2300.0    2466.0  9. exd5 Nxd...          32          38   \n",
       "2981  2021    2792.0    2743.0  9. exd5 Nxd...          30          34   \n",
       "2982  2021    2491.0    2100.0  9. exd5 Nxd...          31          33   \n",
       "2983  2021    2301.0    2492.0  9. exd5 Nxd...          68          76   \n",
       "\n",
       "      WBadMoves  BBadMoves WhiteNationality BlackNationality  \n",
       "0            24         12             NaN              NaN   \n",
       "1             4          8             NaN              NaN   \n",
       "2             0          2             NaN              NaN   \n",
       "3             2          3             NaN              NaN   \n",
       "4             3          1             NaN              NaN   \n",
       "...         ...        ...             ...              ...   \n",
       "2979          7          9             NaN              NaN   \n",
       "2980          9         12             NaN              NaN   \n",
       "2981          1          2             NaN              NaN   \n",
       "2982          2          8             NaN              NaN   \n",
       "2983         11         11             NaN              NaN   \n",
       "\n",
       "[2984 rows x 10 columns]"
      ]
     },
     "execution_count": 113,
     "metadata": {},
     "output_type": "execute_result"
    }
   ],
   "source": [
    "df"
   ]
  },
  {
   "cell_type": "code",
   "execution_count": 114,
   "metadata": {},
   "outputs": [
    {
     "data": {
      "text/plain": [
       "Index(['Date', 'BlackElo', 'WhiteElo', 'SubVariation', 'WGoodMoves',\n",
       "       'BGoodMoves', 'WBadMoves', 'BBadMoves', 'WhiteNationality',\n",
       "       'BlackNationality'],\n",
       "      dtype='object')"
      ]
     },
     "execution_count": 114,
     "metadata": {},
     "output_type": "execute_result"
    }
   ],
   "source": [
    "df.columns"
   ]
  },
  {
   "cell_type": "markdown",
   "metadata": {},
   "source": [
    "# Regressão Linear"
   ]
  },
  {
   "cell_type": "code",
   "execution_count": 115,
   "metadata": {},
   "outputs": [],
   "source": [
    "import statsmodels.api as sm\n",
    "import statsmodels.formula.api as smf\n",
    "import numpy as np\n",
    "\n",
    "from stargazer.stargazer import Stargazer #visualizar diferentes modelos"
   ]
  },
  {
   "cell_type": "code",
   "execution_count": 116,
   "metadata": {},
   "outputs": [],
   "source": [
    "model = smf.ols(formula=\"Q('WGoodMoves') ~  Q('Date') + Q('BlackElo') + Q('WhiteElo') + \\\n",
    "       C(SubVariation) + C(WhiteNationality) + C(BlackNationality)\", data=df)\n",
    "\n",
    "res_Wgm = model.fit()\n",
    "#res_Wgm.summary()"
   ]
  },
  {
   "cell_type": "code",
   "execution_count": 117,
   "metadata": {},
   "outputs": [],
   "source": [
    "model = smf.ols(formula=\"Q('WBadMoves') ~  Q('Date') + Q('BlackElo') + Q('WhiteElo') + \\\n",
    "         C(SubVariation) + C(WhiteNationality) + C(BlackNationality)\", data=df)\n",
    "\n",
    "res_Wbm = model.fit()\n",
    "#res_Wbm.summary()"
   ]
  },
  {
   "cell_type": "code",
   "execution_count": 118,
   "metadata": {},
   "outputs": [],
   "source": [
    "model = smf.ols(formula=\"Q('BGoodMoves') ~  Q('Date') + Q('BlackElo') + Q('WhiteElo') + \\\n",
    "        C(SubVariation) + C(WhiteNationality) + C(BlackNationality)\", data=df)\n",
    "\n",
    "res_Bgm = model.fit()\n",
    "#res_Bgm.summary()"
   ]
  },
  {
   "cell_type": "code",
   "execution_count": 119,
   "metadata": {},
   "outputs": [],
   "source": [
    "model = smf.ols(formula=\"Q('BBadMoves') ~  Q('Date') + Q('BlackElo') + Q('WhiteElo') + \\\n",
    "        C(SubVariation) + C(WhiteNationality) + C(BlackNationality)\", data=df)\n",
    "\n",
    "res_Bbm = model.fit()\n",
    "#res_Bbm.summary()"
   ]
  },
  {
   "cell_type": "code",
   "execution_count": 120,
   "metadata": {},
   "outputs": [
    {
     "data": {
      "text/html": [
       "<table style=\"text-align:center\"><tr><td colspan=\"5\" style=\"border-bottom: 1px solid black\"></td></tr><tr><td style=\"text-align:left\"></td><tr><td style=\"text-align:left\"></td><td>(1)</td><td>(2)</td><td>(3)</td><td>(4)</td></tr><tr><td colspan=\"5\" style=\"border-bottom: 1px solid black\"></td></tr><tr><td style=\"text-align:left\">C(BlackNationality)[T.ALG]</td><td>-0.000<sup></sup></td><td>-0.000<sup></sup></td><td>-0.000<sup></sup></td><td>-0.000<sup></sup></td></tr><tr><td style=\"text-align:left\"></td><td>(0.000)</td><td>(0.000)</td><td>(0.000)</td><td>(0.000)</td></tr><tr><td style=\"text-align:left\">C(BlackNationality)[T.ARG]</td><td>27.951<sup>*</sup></td><td>-2.567<sup></sup></td><td>20.482<sup></sup></td><td>5.813<sup></sup></td></tr><tr><td style=\"text-align:left\"></td><td>(16.081)</td><td>(5.994)</td><td>(18.689)</td><td>(6.033)</td></tr><tr><td style=\"text-align:left\">C(BlackNationality)[T.ARM]</td><td>0.000<sup></sup></td><td>-0.000<sup></sup></td><td>0.000<sup></sup></td><td>-0.000<sup></sup></td></tr><tr><td style=\"text-align:left\"></td><td>(0.000)</td><td>(0.000)</td><td>(0.000)</td><td>(0.000)</td></tr><tr><td style=\"text-align:left\">C(BlackNationality)[T.AUS]</td><td>-0.000<sup></sup></td><td>0.000<sup></sup></td><td>-0.000<sup></sup></td><td>0.000<sup></sup></td></tr><tr><td style=\"text-align:left\"></td><td>(0.000)</td><td>(0.000)</td><td>(0.000)</td><td>(0.000)</td></tr><tr><td style=\"text-align:left\">C(BlackNationality)[T.AUT]</td><td>13.767<sup></sup></td><td>-0.671<sup></sup></td><td>9.308<sup></sup></td><td>5.417<sup></sup></td></tr><tr><td style=\"text-align:left\"></td><td>(11.908)</td><td>(4.439)</td><td>(13.839)</td><td>(4.468)</td></tr><tr><td style=\"text-align:left\">C(BlackNationality)[T.BAN]</td><td>2.433<sup></sup></td><td>-3.639<sup></sup></td><td>-6.931<sup></sup></td><td>2.883<sup></sup></td></tr><tr><td style=\"text-align:left\"></td><td>(11.754)</td><td>(4.381)</td><td>(13.660)</td><td>(4.410)</td></tr><tr><td style=\"text-align:left\">C(BlackNationality)[T.BEL]</td><td>0.000<sup>***</sup></td><td>0.000<sup></sup></td><td>0.000<sup>***</sup></td><td>0.000<sup></sup></td></tr><tr><td style=\"text-align:left\"></td><td>(0.000)</td><td>(0.000)</td><td>(0.000)</td><td>(0.000)</td></tr><tr><td style=\"text-align:left\">C(BlackNationality)[T.BIH]</td><td>15.667<sup></sup></td><td>-3.707<sup></sup></td><td>9.776<sup></sup></td><td>7.319<sup>*</sup></td></tr><tr><td style=\"text-align:left\"></td><td>(10.996)</td><td>(4.099)</td><td>(12.779)</td><td>(4.125)</td></tr><tr><td style=\"text-align:left\">C(BlackNationality)[T.BLR]</td><td>24.719<sup>*</sup></td><td>-7.658<sup></sup></td><td>13.475<sup></sup></td><td>-0.888<sup></sup></td></tr><tr><td style=\"text-align:left\"></td><td>(14.709)</td><td>(5.483)</td><td>(17.094)</td><td>(5.518)</td></tr><tr><td style=\"text-align:left\">C(BlackNationality)[T.BOL]</td><td>-0.000<sup></sup></td><td>-0.000<sup></sup></td><td>-0.000<sup></sup></td><td>-0.000<sup></sup></td></tr><tr><td style=\"text-align:left\"></td><td>(0.000)</td><td>(0.000)</td><td>(0.000)</td><td>(0.000)</td></tr><tr><td style=\"text-align:left\">C(BlackNationality)[T.BRA]</td><td>29.521<sup>**</sup></td><td>1.478<sup></sup></td><td>21.541<sup></sup></td><td>7.274<sup></sup></td></tr><tr><td style=\"text-align:left\"></td><td>(14.673)</td><td>(5.469)</td><td>(17.052)</td><td>(5.505)</td></tr><tr><td style=\"text-align:left\">C(BlackNationality)[T.BRN]</td><td>0.000<sup></sup></td><td>-0.000<sup></sup></td><td>0.000<sup></sup></td><td>-0.000<sup></sup></td></tr><tr><td style=\"text-align:left\"></td><td>(0.000)</td><td>(0.000)</td><td>(0.000)</td><td>(0.000)</td></tr><tr><td style=\"text-align:left\">C(BlackNationality)[T.BUL]</td><td>13.976<sup></sup></td><td>0.232<sup></sup></td><td>9.988<sup></sup></td><td>4.870<sup></sup></td></tr><tr><td style=\"text-align:left\"></td><td>(9.920)</td><td>(3.698)</td><td>(11.528)</td><td>(3.722)</td></tr><tr><td style=\"text-align:left\">C(BlackNationality)[T.CAN]</td><td>9.372<sup></sup></td><td>-1.107<sup></sup></td><td>5.210<sup></sup></td><td>1.710<sup></sup></td></tr><tr><td style=\"text-align:left\"></td><td>(10.228)</td><td>(3.812)</td><td>(11.886)</td><td>(3.837)</td></tr><tr><td style=\"text-align:left\">C(BlackNationality)[T.CHI]</td><td>16.145<sup></sup></td><td>-0.563<sup></sup></td><td>9.034<sup></sup></td><td>5.469<sup></sup></td></tr><tr><td style=\"text-align:left\"></td><td>(12.279)</td><td>(4.577)</td><td>(14.270)</td><td>(4.607)</td></tr><tr><td style=\"text-align:left\">C(BlackNationality)[T.COL]</td><td>-0.000<sup></sup></td><td>-0.000<sup>*</sup></td><td>-0.000<sup></sup></td><td>-0.000<sup>*</sup></td></tr><tr><td style=\"text-align:left\"></td><td>(0.000)</td><td>(0.000)</td><td>(0.000)</td><td>(0.000)</td></tr><tr><td style=\"text-align:left\">C(BlackNationality)[T.CRC]</td><td>0.000<sup>***</sup></td><td>-0.000<sup></sup></td><td>0.000<sup>**</sup></td><td>-0.000<sup></sup></td></tr><tr><td style=\"text-align:left\"></td><td>(0.000)</td><td>(0.000)</td><td>(0.000)</td><td>(0.000)</td></tr><tr><td style=\"text-align:left\">C(BlackNationality)[T.CRO]</td><td>8.007<sup></sup></td><td>-3.902<sup></sup></td><td>6.457<sup></sup></td><td>-0.494<sup></sup></td></tr><tr><td style=\"text-align:left\"></td><td>(11.474)</td><td>(4.277)</td><td>(13.335)</td><td>(4.305)</td></tr><tr><td style=\"text-align:left\">C(BlackNationality)[T.CZE]</td><td>12.718<sup></sup></td><td>-1.485<sup></sup></td><td>7.086<sup></sup></td><td>5.783<sup></sup></td></tr><tr><td style=\"text-align:left\"></td><td>(9.379)</td><td>(3.496)</td><td>(10.900)</td><td>(3.519)</td></tr><tr><td style=\"text-align:left\">C(BlackNationality)[T.DEN]</td><td>15.872<sup>*</sup></td><td>-2.241<sup></sup></td><td>10.934<sup></sup></td><td>3.039<sup></sup></td></tr><tr><td style=\"text-align:left\"></td><td>(9.601)</td><td>(3.579)</td><td>(11.158)</td><td>(3.602)</td></tr><tr><td style=\"text-align:left\">C(BlackNationality)[T.EGY]</td><td>0.000<sup>***</sup></td><td>0.000<sup>***</sup></td><td>0.000<sup>***</sup></td><td>0.000<sup>***</sup></td></tr><tr><td style=\"text-align:left\"></td><td>(0.000)</td><td>(0.000)</td><td>(0.000)</td><td>(0.000)</td></tr><tr><td style=\"text-align:left\">C(BlackNationality)[T.ENG]</td><td>13.715<sup></sup></td><td>-1.945<sup></sup></td><td>7.498<sup></sup></td><td>3.883<sup></sup></td></tr><tr><td style=\"text-align:left\"></td><td>(9.659)</td><td>(3.600)</td><td>(11.225)</td><td>(3.624)</td></tr><tr><td style=\"text-align:left\">C(BlackNationality)[T.ESP]</td><td>29.347<sup>*</sup></td><td>-6.076<sup></sup></td><td>21.592<sup></sup></td><td>-1.235<sup></sup></td></tr><tr><td style=\"text-align:left\"></td><td>(17.440)</td><td>(6.501)</td><td>(20.268)</td><td>(6.543)</td></tr><tr><td style=\"text-align:left\">C(BlackNationality)[T.EST]</td><td>0.000<sup>***</sup></td><td>0.000<sup>***</sup></td><td>0.000<sup>***</sup></td><td>0.000<sup>***</sup></td></tr><tr><td style=\"text-align:left\"></td><td>(0.000)</td><td>(0.000)</td><td>(0.000)</td><td>(0.000)</td></tr><tr><td style=\"text-align:left\">C(BlackNationality)[T.FAI]</td><td>0.000<sup>***</sup></td><td>0.000<sup>***</sup></td><td>0.000<sup>***</sup></td><td>0.000<sup>***</sup></td></tr><tr><td style=\"text-align:left\"></td><td>(0.000)</td><td>(0.000)</td><td>(0.000)</td><td>(0.000)</td></tr><tr><td style=\"text-align:left\">C(BlackNationality)[T.FIN]</td><td>1.337<sup></sup></td><td>0.196<sup></sup></td><td>-0.685<sup></sup></td><td>2.983<sup></sup></td></tr><tr><td style=\"text-align:left\"></td><td>(12.850)</td><td>(4.790)</td><td>(14.934)</td><td>(4.821)</td></tr><tr><td style=\"text-align:left\">C(BlackNationality)[T.FRA]</td><td>-0.818<sup></sup></td><td>-0.279<sup></sup></td><td>-5.619<sup></sup></td><td>3.639<sup></sup></td></tr><tr><td style=\"text-align:left\"></td><td>(12.206)</td><td>(4.550)</td><td>(14.186)</td><td>(4.580)</td></tr><tr><td style=\"text-align:left\">C(BlackNationality)[T.GEO]</td><td>13.310<sup></sup></td><td>-4.180<sup></sup></td><td>4.755<sup></sup></td><td>2.767<sup></sup></td></tr><tr><td style=\"text-align:left\"></td><td>(11.045)</td><td>(4.117)</td><td>(12.837)</td><td>(4.144)</td></tr><tr><td style=\"text-align:left\">C(BlackNationality)[T.GER]</td><td>14.452<sup></sup></td><td>-2.049<sup></sup></td><td>7.879<sup></sup></td><td>3.681<sup></sup></td></tr><tr><td style=\"text-align:left\"></td><td>(9.357)</td><td>(3.488)</td><td>(10.874)</td><td>(3.510)</td></tr><tr><td style=\"text-align:left\">C(BlackNationality)[T.GRE]</td><td>16.156<sup></sup></td><td>1.197<sup></sup></td><td>10.890<sup></sup></td><td>8.052<sup>*</sup></td></tr><tr><td style=\"text-align:left\"></td><td>(11.116)</td><td>(4.144)</td><td>(12.919)</td><td>(4.171)</td></tr><tr><td style=\"text-align:left\">C(BlackNationality)[T.HKG]</td><td>0.000<sup>***</sup></td><td>0.000<sup>***</sup></td><td>0.000<sup>***</sup></td><td>0.000<sup>***</sup></td></tr><tr><td style=\"text-align:left\"></td><td>(0.000)</td><td>(0.000)</td><td>(0.000)</td><td>(0.000)</td></tr><tr><td style=\"text-align:left\">C(BlackNationality)[T.HUN]</td><td>11.584<sup></sup></td><td>-2.238<sup></sup></td><td>4.805<sup></sup></td><td>4.028<sup></sup></td></tr><tr><td style=\"text-align:left\"></td><td>(8.977)</td><td>(3.346)</td><td>(10.432)</td><td>(3.368)</td></tr><tr><td style=\"text-align:left\">C(BlackNationality)[T.INA]</td><td>0.000<sup>***</sup></td><td>0.000<sup>***</sup></td><td>0.000<sup>***</sup></td><td>0.000<sup>***</sup></td></tr><tr><td style=\"text-align:left\"></td><td>(0.000)</td><td>(0.000)</td><td>(0.000)</td><td>(0.000)</td></tr><tr><td style=\"text-align:left\">C(BlackNationality)[T.IND]</td><td>-1.156<sup></sup></td><td>-7.131<sup></sup></td><td>-13.438<sup></sup></td><td>1.261<sup></sup></td></tr><tr><td style=\"text-align:left\"></td><td>(15.049)</td><td>(5.610)</td><td>(17.490)</td><td>(5.646)</td></tr><tr><td style=\"text-align:left\">C(BlackNationality)[T.IRL]</td><td>14.228<sup></sup></td><td>-2.404<sup></sup></td><td>8.229<sup></sup></td><td>3.649<sup></sup></td></tr><tr><td style=\"text-align:left\"></td><td>(11.618)</td><td>(4.330)</td><td>(13.502)</td><td>(4.359)</td></tr><tr><td style=\"text-align:left\">C(BlackNationality)[T.ISL]</td><td>41.872<sup>***</sup></td><td>-2.221<sup></sup></td><td>39.320<sup>***</sup></td><td>3.787<sup></sup></td></tr><tr><td style=\"text-align:left\"></td><td>(12.133)</td><td>(4.522)</td><td>(14.100)</td><td>(4.552)</td></tr><tr><td style=\"text-align:left\">C(BlackNationality)[T.ISR]</td><td>10.806<sup></sup></td><td>-1.410<sup></sup></td><td>7.531<sup></sup></td><td>1.338<sup></sup></td></tr><tr><td style=\"text-align:left\"></td><td>(17.090)</td><td>(6.370)</td><td>(19.861)</td><td>(6.412)</td></tr><tr><td style=\"text-align:left\">C(BlackNationality)[T.ITA]</td><td>1.121<sup></sup></td><td>1.839<sup></sup></td><td>-3.069<sup></sup></td><td>4.752<sup></sup></td></tr><tr><td style=\"text-align:left\"></td><td>(13.699)</td><td>(5.106)</td><td>(15.921)</td><td>(5.140)</td></tr><tr><td style=\"text-align:left\">C(BlackNationality)[T.KOS]</td><td>1.398<sup></sup></td><td>-12.794<sup>*</sup></td><td>-9.159<sup></sup></td><td>-13.699<sup>**</sup></td></tr><tr><td style=\"text-align:left\"></td><td>(18.191)</td><td>(6.781)</td><td>(21.141)</td><td>(6.825)</td></tr><tr><td style=\"text-align:left\">C(BlackNationality)[T.LAT]</td><td>10.015<sup></sup></td><td>-3.620<sup></sup></td><td>3.670<sup></sup></td><td>2.836<sup></sup></td></tr><tr><td style=\"text-align:left\"></td><td>(11.178)</td><td>(4.167)</td><td>(12.991)</td><td>(4.194)</td></tr><tr><td style=\"text-align:left\">C(BlackNationality)[T.LTU]</td><td>9.854<sup></sup></td><td>1.508<sup></sup></td><td>9.957<sup></sup></td><td>2.694<sup></sup></td></tr><tr><td style=\"text-align:left\"></td><td>(11.734)</td><td>(4.374)</td><td>(13.637)</td><td>(4.403)</td></tr><tr><td style=\"text-align:left\">C(BlackNationality)[T.MAR]</td><td>0.000<sup>***</sup></td><td>0.000<sup>***</sup></td><td>0.000<sup>***</sup></td><td>0.000<sup>***</sup></td></tr><tr><td style=\"text-align:left\"></td><td>(0.000)</td><td>(0.000)</td><td>(0.000)</td><td>(0.000)</td></tr><tr><td style=\"text-align:left\">C(BlackNationality)[T.MKD]</td><td>9.606<sup></sup></td><td>-4.201<sup></sup></td><td>-0.318<sup></sup></td><td>3.557<sup></sup></td></tr><tr><td style=\"text-align:left\"></td><td>(10.453)</td><td>(3.896)</td><td>(12.148)</td><td>(3.922)</td></tr><tr><td style=\"text-align:left\">C(BlackNationality)[T.NED]</td><td>4.273<sup></sup></td><td>0.196<sup></sup></td><td>-0.720<sup></sup></td><td>2.983<sup></sup></td></tr><tr><td style=\"text-align:left\"></td><td>(10.371)</td><td>(3.866)</td><td>(12.053)</td><td>(3.891)</td></tr><tr><td style=\"text-align:left\">C(BlackNationality)[T.NOR]</td><td>20.430<sup></sup></td><td>3.265<sup></sup></td><td>14.800<sup></sup></td><td>7.187<sup></sup></td></tr><tr><td style=\"text-align:left\"></td><td>(15.507)</td><td>(5.780)</td><td>(18.022)</td><td>(5.818)</td></tr><tr><td style=\"text-align:left\">C(BlackNationality)[T.NZL]</td><td>-5.775<sup></sup></td><td>1.165<sup></sup></td><td>-8.244<sup></sup></td><td>10.229<sup>*</sup></td></tr><tr><td style=\"text-align:left\"></td><td>(14.547)</td><td>(5.422)</td><td>(16.906)</td><td>(5.458)</td></tr><tr><td style=\"text-align:left\">C(BlackNationality)[T.PER]</td><td>0.000<sup>***</sup></td><td>0.000<sup>***</sup></td><td>0.000<sup>***</sup></td><td>0.000<sup>***</sup></td></tr><tr><td style=\"text-align:left\"></td><td>(0.000)</td><td>(0.000)</td><td>(0.000)</td><td>(0.000)</td></tr><tr><td style=\"text-align:left\">C(BlackNationality)[T.PHI]</td><td>33.964<sup>***</sup></td><td>-2.959<sup></sup></td><td>36.904<sup>***</sup></td><td>3.660<sup></sup></td></tr><tr><td style=\"text-align:left\"></td><td>(10.413)</td><td>(3.881)</td><td>(12.102)</td><td>(3.907)</td></tr><tr><td style=\"text-align:left\">C(BlackNationality)[T.PNG]</td><td>0.000<sup>***</sup></td><td>0.000<sup>***</sup></td><td>0.000<sup>***</sup></td><td>0.000<sup>***</sup></td></tr><tr><td style=\"text-align:left\"></td><td>(0.000)</td><td>(0.000)</td><td>(0.000)</td><td>(0.000)</td></tr><tr><td style=\"text-align:left\">C(BlackNationality)[T.POL]</td><td>19.679<sup>**</sup></td><td>-1.480<sup></sup></td><td>14.192<sup></sup></td><td>2.946<sup></sup></td></tr><tr><td style=\"text-align:left\"></td><td>(9.625)</td><td>(3.588)</td><td>(11.186)</td><td>(3.611)</td></tr><tr><td style=\"text-align:left\">C(BlackNationality)[T.POR]</td><td>7.268<sup></sup></td><td>1.714<sup></sup></td><td>-2.850<sup></sup></td><td>13.667<sup>**</sup></td></tr><tr><td style=\"text-align:left\"></td><td>(15.712)</td><td>(5.857)</td><td>(18.260)</td><td>(5.895)</td></tr><tr><td style=\"text-align:left\">C(BlackNationality)[T.ROU]</td><td>0.000<sup>***</sup></td><td>0.000<sup>***</sup></td><td>0.000<sup>***</sup></td><td>0.000<sup>***</sup></td></tr><tr><td style=\"text-align:left\"></td><td>(0.000)</td><td>(0.000)</td><td>(0.000)</td><td>(0.000)</td></tr><tr><td style=\"text-align:left\">C(BlackNationality)[T.RUS]</td><td>4.684<sup></sup></td><td>-1.719<sup></sup></td><td>-0.500<sup></sup></td><td>2.511<sup></sup></td></tr><tr><td style=\"text-align:left\"></td><td>(9.651)</td><td>(3.597)</td><td>(11.216)</td><td>(3.621)</td></tr><tr><td style=\"text-align:left\">C(BlackNationality)[T.SCO]</td><td>8.102<sup></sup></td><td>-2.874<sup></sup></td><td>4.514<sup></sup></td><td>1.253<sup></sup></td></tr><tr><td style=\"text-align:left\"></td><td>(14.392)</td><td>(5.365)</td><td>(16.726)</td><td>(5.400)</td></tr><tr><td style=\"text-align:left\">C(BlackNationality)[T.SGP]</td><td>0.000<sup>***</sup></td><td>0.000<sup>***</sup></td><td>0.000<sup>***</sup></td><td>0.000<sup>***</sup></td></tr><tr><td style=\"text-align:left\"></td><td>(0.000)</td><td>(0.000)</td><td>(0.000)</td><td>(0.000)</td></tr><tr><td style=\"text-align:left\">C(BlackNationality)[T.SLO]</td><td>13.886<sup></sup></td><td>-5.595<sup></sup></td><td>6.063<sup></sup></td><td>-0.113<sup></sup></td></tr><tr><td style=\"text-align:left\"></td><td>(11.407)</td><td>(4.252)</td><td>(13.256)</td><td>(4.280)</td></tr><tr><td style=\"text-align:left\">C(BlackNationality)[T.SRB]</td><td>14.946<sup></sup></td><td>-1.070<sup></sup></td><td>10.553<sup></sup></td><td>3.549<sup></sup></td></tr><tr><td style=\"text-align:left\"></td><td>(9.141)</td><td>(3.407)</td><td>(10.623)</td><td>(3.429)</td></tr><tr><td style=\"text-align:left\">C(BlackNationality)[T.SUI]</td><td>5.843<sup></sup></td><td>-6.598<sup></sup></td><td>-1.137<sup></sup></td><td>1.957<sup></sup></td></tr><tr><td style=\"text-align:left\"></td><td>(13.300)</td><td>(4.957)</td><td>(15.456)</td><td>(4.990)</td></tr><tr><td style=\"text-align:left\">C(BlackNationality)[T.SVK]</td><td>8.052<sup></sup></td><td>-1.999<sup></sup></td><td>1.218<sup></sup></td><td>3.869<sup></sup></td></tr><tr><td style=\"text-align:left\"></td><td>(9.092)</td><td>(3.389)</td><td>(10.567)</td><td>(3.411)</td></tr><tr><td style=\"text-align:left\">C(BlackNationality)[T.SWE]</td><td>22.649<sup>**</sup></td><td>0.675<sup></sup></td><td>18.326<sup></sup></td><td>6.741<sup>*</sup></td></tr><tr><td style=\"text-align:left\"></td><td>(10.423)</td><td>(3.885)</td><td>(12.114)</td><td>(3.911)</td></tr><tr><td style=\"text-align:left\">C(BlackNationality)[T.TKM]</td><td>0.000<sup>***</sup></td><td>0.000<sup>***</sup></td><td>0.000<sup>***</sup></td><td>0.000<sup>***</sup></td></tr><tr><td style=\"text-align:left\"></td><td>(0.000)</td><td>(0.000)</td><td>(0.000)</td><td>(0.000)</td></tr><tr><td style=\"text-align:left\">C(BlackNationality)[T.TTO]</td><td>0.000<sup>***</sup></td><td>0.000<sup>***</sup></td><td>0.000<sup>***</sup></td><td>0.000<sup>***</sup></td></tr><tr><td style=\"text-align:left\"></td><td>(0.000)</td><td>(0.000)</td><td>(0.000)</td><td>(0.000)</td></tr><tr><td style=\"text-align:left\">C(BlackNationality)[T.TUN]</td><td>0.000<sup>***</sup></td><td>0.000<sup>***</sup></td><td>0.000<sup>***</sup></td><td>0.000<sup>***</sup></td></tr><tr><td style=\"text-align:left\"></td><td>(0.000)</td><td>(0.000)</td><td>(0.000)</td><td>(0.000)</td></tr><tr><td style=\"text-align:left\">C(BlackNationality)[T.TUR]</td><td>0.000<sup>***</sup></td><td>0.000<sup>***</sup></td><td>0.000<sup>***</sup></td><td>0.000<sup>***</sup></td></tr><tr><td style=\"text-align:left\"></td><td>(0.000)</td><td>(0.000)</td><td>(0.000)</td><td>(0.000)</td></tr><tr><td style=\"text-align:left\">C(BlackNationality)[T.UAE]</td><td>0.000<sup>***</sup></td><td>0.000<sup>***</sup></td><td>0.000<sup>***</sup></td><td>0.000<sup>***</sup></td></tr><tr><td style=\"text-align:left\"></td><td>(0.000)</td><td>(0.000)</td><td>(0.000)</td><td>(0.000)</td></tr><tr><td style=\"text-align:left\">C(BlackNationality)[T.UKR]</td><td>8.520<sup></sup></td><td>-1.999<sup></sup></td><td>3.904<sup></sup></td><td>4.128<sup></sup></td></tr><tr><td style=\"text-align:left\"></td><td>(9.958)</td><td>(3.712)</td><td>(11.573)</td><td>(3.736)</td></tr><tr><td style=\"text-align:left\">C(BlackNationality)[T.USA]</td><td>16.301<sup></sup></td><td>-2.297<sup></sup></td><td>9.604<sup></sup></td><td>4.366<sup></sup></td></tr><tr><td style=\"text-align:left\"></td><td>(9.900)</td><td>(3.690)</td><td>(11.505)</td><td>(3.714)</td></tr><tr><td style=\"text-align:left\">C(BlackNationality)[T.UZB]</td><td>0.000<sup>***</sup></td><td>0.000<sup>***</sup></td><td>0.000<sup>***</sup></td><td>0.000<sup>***</sup></td></tr><tr><td style=\"text-align:left\"></td><td>(0.000)</td><td>(0.000)</td><td>(0.000)</td><td>(0.000)</td></tr><tr><td style=\"text-align:left\">C(BlackNationality)[T.WLS]</td><td>12.637<sup></sup></td><td>5.141<sup></sup></td><td>13.302<sup></sup></td><td>17.047<sup>***</sup></td></tr><tr><td style=\"text-align:left\"></td><td>(16.575)</td><td>(6.178)</td><td>(19.263)</td><td>(6.219)</td></tr><tr><td style=\"text-align:left\">C(SubVariation)[T.9. d4 Nxe4 10. dxe5 Be6]</td><td>-0.000<sup></sup></td><td>0.000<sup></sup></td><td>-0.000<sup></sup></td><td>-0.000<sup></sup></td></tr><tr><td style=\"text-align:left\"></td><td>(0.000)</td><td>(0.000)</td><td>(0.000)</td><td>(0.000)</td></tr><tr><td style=\"text-align:left\">C(SubVariation)[T.9. d4 exd4 10. e5 Ne4]</td><td>-21.537<sup>**</sup></td><td>-5.279<sup></sup></td><td>-26.556<sup>**</sup></td><td>-1.245<sup></sup></td></tr><tr><td style=\"text-align:left\"></td><td>(10.624)</td><td>(3.960)</td><td>(12.347)</td><td>(3.986)</td></tr><tr><td style=\"text-align:left\">C(SubVariation)[T.9. exd5 Nxd5 10. Nxe5 Nxe5]</td><td>0.110<sup></sup></td><td>-1.590<sup></sup></td><td>0.309<sup></sup></td><td>0.588<sup></sup></td></tr><tr><td style=\"text-align:left\"></td><td>(8.139)</td><td>(3.034)</td><td>(9.458)</td><td>(3.054)</td></tr><tr><td style=\"text-align:left\">C(SubVariation)[T.9. exd5 Nxd5 10. d4 exd4]</td><td>-0.000<sup></sup></td><td>0.000<sup></sup></td><td>-0.000<sup></sup></td><td>-0.000<sup></sup></td></tr><tr><td style=\"text-align:left\"></td><td>(0.000)</td><td>(0.000)</td><td>(0.000)</td><td>(0.000)</td></tr><tr><td style=\"text-align:left\">C(SubVariation)[T.9. exd5 e4 10. Ng5 Bg4]</td><td>-9.034<sup></sup></td><td>6.408<sup></sup></td><td>-9.031<sup></sup></td><td>6.504<sup></sup></td></tr><tr><td style=\"text-align:left\"></td><td>(13.972)</td><td>(5.208)</td><td>(16.237)</td><td>(5.242)</td></tr><tr><td style=\"text-align:left\">C(SubVariation)[T.9. exd5 e4 10. dxc6 exf3]</td><td>-1.767<sup></sup></td><td>-3.219<sup></sup></td><td>-2.497<sup></sup></td><td>-1.161<sup></sup></td></tr><tr><td style=\"text-align:left\"></td><td>(10.286)</td><td>(3.834)</td><td>(11.954)</td><td>(3.859)</td></tr><tr><td style=\"text-align:left\">C(SubVariation)[T.Other]</td><td>-4.266<sup></sup></td><td>-3.331<sup></sup></td><td>-6.675<sup></sup></td><td>-1.856<sup></sup></td></tr><tr><td style=\"text-align:left\"></td><td>(9.171)</td><td>(3.418)</td><td>(10.658)</td><td>(3.441)</td></tr><tr><td style=\"text-align:left\">C(WhiteNationality)[T.ALG]</td><td>-0.000<sup>*</sup></td><td>0.000<sup></sup></td><td>-0.000<sup></sup></td><td>-0.000<sup></sup></td></tr><tr><td style=\"text-align:left\"></td><td>(0.000)</td><td>(0.000)</td><td>(0.000)</td><td>(0.000)</td></tr><tr><td style=\"text-align:left\">C(WhiteNationality)[T.ARG]</td><td>-0.832<sup></sup></td><td>-5.481<sup></sup></td><td>-8.927<sup></sup></td><td>0.441<sup></sup></td></tr><tr><td style=\"text-align:left\"></td><td>(13.914)</td><td>(5.186)</td><td>(16.171)</td><td>(5.220)</td></tr><tr><td style=\"text-align:left\">C(WhiteNationality)[T.ARM]</td><td>-0.000<sup></sup></td><td>0.000<sup></sup></td><td>-0.000<sup></sup></td><td>-0.000<sup></sup></td></tr><tr><td style=\"text-align:left\"></td><td>(0.000)</td><td>(0.000)</td><td>(0.000)</td><td>(0.000)</td></tr><tr><td style=\"text-align:left\">C(WhiteNationality)[T.AUS]</td><td>4.389<sup></sup></td><td>-4.438<sup></sup></td><td>-2.372<sup></sup></td><td>2.713<sup></sup></td></tr><tr><td style=\"text-align:left\"></td><td>(11.497)</td><td>(4.285)</td><td>(13.362)</td><td>(4.314)</td></tr><tr><td style=\"text-align:left\">C(WhiteNationality)[T.AUT]</td><td>8.259<sup></sup></td><td>-0.609<sup></sup></td><td>4.093<sup></sup></td><td>2.971<sup></sup></td></tr><tr><td style=\"text-align:left\"></td><td>(9.651)</td><td>(3.597)</td><td>(11.216)</td><td>(3.621)</td></tr><tr><td style=\"text-align:left\">C(WhiteNationality)[T.BEL]</td><td>0.000<sup></sup></td><td>-0.000<sup></sup></td><td>0.000<sup></sup></td><td>0.000<sup></sup></td></tr><tr><td style=\"text-align:left\"></td><td>(0.000)</td><td>(0.000)</td><td>(0.000)</td><td>(0.000)</td></tr><tr><td style=\"text-align:left\">C(WhiteNationality)[T.BIH]</td><td>0.000<sup></sup></td><td>-0.000<sup></sup></td><td>0.000<sup></sup></td><td>0.000<sup></sup></td></tr><tr><td style=\"text-align:left\"></td><td>(0.000)</td><td>(0.000)</td><td>(0.000)</td><td>(0.000)</td></tr><tr><td style=\"text-align:left\">C(WhiteNationality)[T.BLR]</td><td>26.841<sup>**</sup></td><td>5.565<sup></sup></td><td>27.871<sup>*</sup></td><td>7.618<sup></sup></td></tr><tr><td style=\"text-align:left\"></td><td>(12.647)</td><td>(4.714)</td><td>(14.698)</td><td>(4.745)</td></tr><tr><td style=\"text-align:left\">C(WhiteNationality)[T.BRA]</td><td>3.584<sup></sup></td><td>0.664<sup></sup></td><td>-2.561<sup></sup></td><td>7.358<sup></sup></td></tr><tr><td style=\"text-align:left\"></td><td>(14.183)</td><td>(5.287)</td><td>(16.483)</td><td>(5.321)</td></tr><tr><td style=\"text-align:left\">C(WhiteNationality)[T.BUL]</td><td>16.015<sup>*</sup></td><td>-2.919<sup></sup></td><td>13.218<sup></sup></td><td>-0.208<sup></sup></td></tr><tr><td style=\"text-align:left\"></td><td>(9.461)</td><td>(3.526)</td><td>(10.995)</td><td>(3.550)</td></tr><tr><td style=\"text-align:left\">C(WhiteNationality)[T.CAN]</td><td>9.372<sup></sup></td><td>-1.107<sup></sup></td><td>5.210<sup></sup></td><td>1.710<sup></sup></td></tr><tr><td style=\"text-align:left\"></td><td>(10.228)</td><td>(3.812)</td><td>(11.886)</td><td>(3.837)</td></tr><tr><td style=\"text-align:left\">C(WhiteNationality)[T.CHI]</td><td>20.263<sup></sup></td><td>-2.627<sup></sup></td><td>11.800<sup></sup></td><td>2.960<sup></sup></td></tr><tr><td style=\"text-align:left\"></td><td>(14.677)</td><td>(5.471)</td><td>(17.056)</td><td>(5.506)</td></tr><tr><td style=\"text-align:left\">C(WhiteNationality)[T.CIV]</td><td>0.000<sup>*</sup></td><td>-0.000<sup></sup></td><td>0.000<sup></sup></td><td>0.000<sup></sup></td></tr><tr><td style=\"text-align:left\"></td><td>(0.000)</td><td>(0.000)</td><td>(0.000)</td><td>(0.000)</td></tr><tr><td style=\"text-align:left\">C(WhiteNationality)[T.COL]</td><td>4.063<sup></sup></td><td>-1.573<sup></sup></td><td>-2.614<sup></sup></td><td>6.084<sup></sup></td></tr><tr><td style=\"text-align:left\"></td><td>(11.924)</td><td>(4.445)</td><td>(13.858)</td><td>(4.474)</td></tr><tr><td style=\"text-align:left\">C(WhiteNationality)[T.CRO]</td><td>12.227<sup></sup></td><td>-0.647<sup></sup></td><td>2.584<sup></sup></td><td>6.736<sup></sup></td></tr><tr><td style=\"text-align:left\"></td><td>(11.112)</td><td>(4.142)</td><td>(12.914)</td><td>(4.169)</td></tr><tr><td style=\"text-align:left\">C(WhiteNationality)[T.CUB]</td><td>7.384<sup></sup></td><td>-2.283<sup></sup></td><td>2.920<sup></sup></td><td>3.292<sup></sup></td></tr><tr><td style=\"text-align:left\"></td><td>(10.575)</td><td>(3.942)</td><td>(12.290)</td><td>(3.968)</td></tr><tr><td style=\"text-align:left\">C(WhiteNationality)[T.CZE]</td><td>7.411<sup></sup></td><td>-3.051<sup></sup></td><td>1.067<sup></sup></td><td>2.525<sup></sup></td></tr><tr><td style=\"text-align:left\"></td><td>(9.293)</td><td>(3.464)</td><td>(10.801)</td><td>(3.487)</td></tr><tr><td style=\"text-align:left\">C(WhiteNationality)[T.DEN]</td><td>14.270<sup></sup></td><td>-6.041<sup></sup></td><td>5.899<sup></sup></td><td>2.644<sup></sup></td></tr><tr><td style=\"text-align:left\"></td><td>(11.873)</td><td>(4.425)</td><td>(13.798)</td><td>(4.454)</td></tr><tr><td style=\"text-align:left\">C(WhiteNationality)[T.ECU]</td><td>0.000<sup>*</sup></td><td>-0.000<sup></sup></td><td>0.000<sup></sup></td><td>0.000<sup></sup></td></tr><tr><td style=\"text-align:left\"></td><td>(0.000)</td><td>(0.000)</td><td>(0.000)</td><td>(0.000)</td></tr><tr><td style=\"text-align:left\">C(WhiteNationality)[T.ENG]</td><td>8.370<sup></sup></td><td>-1.688<sup></sup></td><td>2.552<sup></sup></td><td>2.629<sup></sup></td></tr><tr><td style=\"text-align:left\"></td><td>(9.514)</td><td>(3.546)</td><td>(11.057)</td><td>(3.570)</td></tr><tr><td style=\"text-align:left\">C(WhiteNationality)[T.ESA]</td><td>0.000<sup></sup></td><td>0.000<sup></sup></td><td>0.000<sup></sup></td><td>-0.000<sup></sup></td></tr><tr><td style=\"text-align:left\"></td><td>(0.000)</td><td>(0.000)</td><td>(0.000)</td><td>(0.000)</td></tr><tr><td style=\"text-align:left\">C(WhiteNationality)[T.ESP]</td><td>10.067<sup></sup></td><td>-4.374<sup></sup></td><td>7.501<sup></sup></td><td>2.173<sup></sup></td></tr><tr><td style=\"text-align:left\"></td><td>(12.214)</td><td>(4.553)</td><td>(14.195)</td><td>(4.583)</td></tr><tr><td style=\"text-align:left\">C(WhiteNationality)[T.EST]</td><td>13.310<sup></sup></td><td>-4.180<sup></sup></td><td>4.755<sup></sup></td><td>2.767<sup></sup></td></tr><tr><td style=\"text-align:left\"></td><td>(11.045)</td><td>(4.117)</td><td>(12.837)</td><td>(4.144)</td></tr><tr><td style=\"text-align:left\">C(WhiteNationality)[T.FIN]</td><td>14.657<sup></sup></td><td>-6.921<sup></sup></td><td>5.628<sup></sup></td><td>1.284<sup></sup></td></tr><tr><td style=\"text-align:left\"></td><td>(11.900)</td><td>(4.436)</td><td>(13.830)</td><td>(4.465)</td></tr><tr><td style=\"text-align:left\">C(WhiteNationality)[T.FRA]</td><td>14.145<sup></sup></td><td>-2.303<sup></sup></td><td>9.398<sup></sup></td><td>1.615<sup></sup></td></tr><tr><td style=\"text-align:left\"></td><td>(10.453)</td><td>(3.896)</td><td>(12.148)</td><td>(3.922)</td></tr><tr><td style=\"text-align:left\">C(WhiteNationality)[T.GEO]</td><td>38.739<sup>***</sup></td><td>3.886<sup></sup></td><td>37.917<sup>**</sup></td><td>6.286<sup></sup></td></tr><tr><td style=\"text-align:left\"></td><td>(13.793)</td><td>(5.141)</td><td>(16.030)</td><td>(5.175)</td></tr><tr><td style=\"text-align:left\">C(WhiteNationality)[T.GER]</td><td>14.463<sup></sup></td><td>-1.158<sup></sup></td><td>10.436<sup></sup></td><td>3.682<sup></sup></td></tr><tr><td style=\"text-align:left\"></td><td>(9.079)</td><td>(3.384)</td><td>(10.551)</td><td>(3.406)</td></tr><tr><td style=\"text-align:left\">C(WhiteNationality)[T.GRE]</td><td>9.186<sup></sup></td><td>-0.240<sup></sup></td><td>5.452<sup></sup></td><td>2.355<sup></sup></td></tr><tr><td style=\"text-align:left\"></td><td>(9.864)</td><td>(3.677)</td><td>(11.464)</td><td>(3.701)</td></tr><tr><td style=\"text-align:left\">C(WhiteNationality)[T.HUN]</td><td>13.275<sup></sup></td><td>-2.273<sup></sup></td><td>6.539<sup></sup></td><td>4.237<sup></sup></td></tr><tr><td style=\"text-align:left\"></td><td>(9.907)</td><td>(3.693)</td><td>(11.514)</td><td>(3.717)</td></tr><tr><td style=\"text-align:left\">C(WhiteNationality)[T.INA]</td><td>0.000<sup></sup></td><td>0.000<sup></sup></td><td>0.000<sup></sup></td><td>0.000<sup></sup></td></tr><tr><td style=\"text-align:left\"></td><td>(0.000)</td><td>(0.000)</td><td>(0.000)</td><td>(0.000)</td></tr><tr><td style=\"text-align:left\">C(WhiteNationality)[T.IND]</td><td>19.512<sup>*</sup></td><td>-1.584<sup></sup></td><td>13.085<sup></sup></td><td>5.707<sup></sup></td></tr><tr><td style=\"text-align:left\"></td><td>(10.082)</td><td>(3.758)</td><td>(11.717)</td><td>(3.783)</td></tr><tr><td style=\"text-align:left\">C(WhiteNationality)[T.IRL]</td><td>0.000<sup></sup></td><td>-0.000<sup></sup></td><td>-0.000<sup></sup></td><td>0.000<sup></sup></td></tr><tr><td style=\"text-align:left\"></td><td>(0.000)</td><td>(0.000)</td><td>(0.000)</td><td>(0.000)</td></tr><tr><td style=\"text-align:left\">C(WhiteNationality)[T.ISL]</td><td>5.305<sup></sup></td><td>0.430<sup></sup></td><td>-0.145<sup></sup></td><td>4.727<sup></sup></td></tr><tr><td style=\"text-align:left\"></td><td>(10.138)</td><td>(3.779)</td><td>(11.782)</td><td>(3.804)</td></tr><tr><td style=\"text-align:left\">C(WhiteNationality)[T.ISR]</td><td>8.692<sup></sup></td><td>-2.300<sup></sup></td><td>2.418<sup></sup></td><td>2.686<sup></sup></td></tr><tr><td style=\"text-align:left\"></td><td>(10.354)</td><td>(3.859)</td><td>(12.033)</td><td>(3.885)</td></tr><tr><td style=\"text-align:left\">C(WhiteNationality)[T.ITA]</td><td>16.932<sup></sup></td><td>0.036<sup></sup></td><td>9.993<sup></sup></td><td>2.968<sup></sup></td></tr><tr><td style=\"text-align:left\"></td><td>(13.024)</td><td>(4.855)</td><td>(15.136)</td><td>(4.887)</td></tr><tr><td style=\"text-align:left\">C(WhiteNationality)[T.JAM]</td><td>-0.000<sup></sup></td><td>-0.000<sup></sup></td><td>-0.000<sup></sup></td><td>-0.000<sup></sup></td></tr><tr><td style=\"text-align:left\"></td><td>(0.000)</td><td>(0.000)</td><td>(0.000)</td><td>(0.000)</td></tr><tr><td style=\"text-align:left\">C(WhiteNationality)[T.KOS]</td><td>11.745<sup></sup></td><td>-5.439<sup></sup></td><td>9.252<sup></sup></td><td>-1.283<sup></sup></td></tr><tr><td style=\"text-align:left\"></td><td>(15.453)</td><td>(5.760)</td><td>(17.959)</td><td>(5.798)</td></tr><tr><td style=\"text-align:left\">C(WhiteNationality)[T.LAT]</td><td>3.835<sup></sup></td><td>-5.843<sup></sup></td><td>-8.155<sup></sup></td><td>3.065<sup></sup></td></tr><tr><td style=\"text-align:left\"></td><td>(14.117)</td><td>(5.262)</td><td>(16.406)</td><td>(5.296)</td></tr><tr><td style=\"text-align:left\">C(WhiteNationality)[T.LTU]</td><td>10.026<sup></sup></td><td>-6.533<sup></sup></td><td>-5.321<sup></sup></td><td>12.295<sup>*</sup></td></tr><tr><td style=\"text-align:left\"></td><td>(17.004)</td><td>(6.338)</td><td>(19.761)</td><td>(6.380)</td></tr><tr><td style=\"text-align:left\">C(WhiteNationality)[T.LUX]</td><td>0.000<sup></sup></td><td>0.000<sup></sup></td><td>0.000<sup></sup></td><td>0.000<sup></sup></td></tr><tr><td style=\"text-align:left\"></td><td>(0.000)</td><td>(0.000)</td><td>(0.000)</td><td>(0.000)</td></tr><tr><td style=\"text-align:left\">C(WhiteNationality)[T.MDA]</td><td>0.000<sup></sup></td><td>-0.000<sup></sup></td><td>0.000<sup></sup></td><td>-0.000<sup></sup></td></tr><tr><td style=\"text-align:left\"></td><td>(0.000)</td><td>(0.000)</td><td>(0.000)</td><td>(0.000)</td></tr><tr><td style=\"text-align:left\">C(WhiteNationality)[T.MEX]</td><td>0.000<sup></sup></td><td>0.000<sup></sup></td><td>0.000<sup></sup></td><td>0.000<sup></sup></td></tr><tr><td style=\"text-align:left\"></td><td>(0.000)</td><td>(0.000)</td><td>(0.000)</td><td>(0.000)</td></tr><tr><td style=\"text-align:left\">C(WhiteNationality)[T.MKD]</td><td>7.695<sup></sup></td><td>-2.243<sup></sup></td><td>1.199<sup></sup></td><td>1.667<sup></sup></td></tr><tr><td style=\"text-align:left\"></td><td>(14.990)</td><td>(5.587)</td><td>(17.421)</td><td>(5.624)</td></tr><tr><td style=\"text-align:left\">C(WhiteNationality)[T.MNE]</td><td>0.000<sup></sup></td><td>0.000<sup></sup></td><td>0.000<sup></sup></td><td>0.000<sup>**</sup></td></tr><tr><td style=\"text-align:left\"></td><td>(0.000)</td><td>(0.000)</td><td>(0.000)</td><td>(0.000)</td></tr><tr><td style=\"text-align:left\">C(WhiteNationality)[T.NAM]</td><td>-0.000<sup>*</sup></td><td>-0.000<sup></sup></td><td>-0.000<sup>*</sup></td><td>-0.000<sup></sup></td></tr><tr><td style=\"text-align:left\"></td><td>(0.000)</td><td>(0.000)</td><td>(0.000)</td><td>(0.000)</td></tr><tr><td style=\"text-align:left\">C(WhiteNationality)[T.NED]</td><td>16.641<sup>*</sup></td><td>-1.988<sup></sup></td><td>12.225<sup></sup></td><td>2.832<sup></sup></td></tr><tr><td style=\"text-align:left\"></td><td>(9.844)</td><td>(3.669)</td><td>(11.440)</td><td>(3.693)</td></tr><tr><td style=\"text-align:left\">C(WhiteNationality)[T.NOR]</td><td>5.030<sup></sup></td><td>-4.578<sup></sup></td><td>-3.701<sup></sup></td><td>4.202<sup></sup></td></tr><tr><td style=\"text-align:left\"></td><td>(12.027)</td><td>(4.483)</td><td>(13.977)</td><td>(4.512)</td></tr><tr><td style=\"text-align:left\">C(WhiteNationality)[T.NZL]</td><td>28.926<sup>**</sup></td><td>-3.122<sup></sup></td><td>25.808<sup>*</sup></td><td>-2.234<sup></sup></td></tr><tr><td style=\"text-align:left\"></td><td>(11.362)</td><td>(4.235)</td><td>(13.204)</td><td>(4.263)</td></tr><tr><td style=\"text-align:left\">C(WhiteNationality)[T.PER]</td><td>0.000<sup></sup></td><td>-0.000<sup></sup></td><td>-0.000<sup></sup></td><td>-0.000<sup></sup></td></tr><tr><td style=\"text-align:left\"></td><td>(0.000)</td><td>(0.000)</td><td>(0.000)</td><td>(0.000)</td></tr><tr><td style=\"text-align:left\">C(WhiteNationality)[T.PHI]</td><td>18.032<sup></sup></td><td>1.497<sup></sup></td><td>17.195<sup></sup></td><td>6.469<sup></sup></td></tr><tr><td style=\"text-align:left\"></td><td>(11.773)</td><td>(4.388)</td><td>(13.683)</td><td>(4.417)</td></tr><tr><td style=\"text-align:left\">C(WhiteNationality)[T.POL]</td><td>7.691<sup></sup></td><td>-3.051<sup></sup></td><td>3.050<sup></sup></td><td>2.667<sup></sup></td></tr><tr><td style=\"text-align:left\"></td><td>(9.181)</td><td>(3.422)</td><td>(10.670)</td><td>(3.445)</td></tr><tr><td style=\"text-align:left\">C(WhiteNationality)[T.POR]</td><td>14.414<sup></sup></td><td>-1.497<sup></sup></td><td>10.132<sup></sup></td><td>2.427<sup></sup></td></tr><tr><td style=\"text-align:left\"></td><td>(12.197)</td><td>(4.546)</td><td>(14.175)</td><td>(4.576)</td></tr><tr><td style=\"text-align:left\">C(WhiteNationality)[T.ROU]</td><td>0.000<sup></sup></td><td>-0.000<sup></sup></td><td>0.000<sup></sup></td><td>-0.000<sup></sup></td></tr><tr><td style=\"text-align:left\"></td><td>(0.000)</td><td>(0.000)</td><td>(0.000)</td><td>(0.000)</td></tr><tr><td style=\"text-align:left\">C(WhiteNationality)[T.RUS]</td><td>14.822<sup></sup></td><td>-0.497<sup></sup></td><td>10.407<sup></sup></td><td>4.477<sup></sup></td></tr><tr><td style=\"text-align:left\"></td><td>(9.550)</td><td>(3.560)</td><td>(11.099)</td><td>(3.583)</td></tr><tr><td style=\"text-align:left\">C(WhiteNationality)[T.SCO]</td><td>11.043<sup></sup></td><td>-0.666<sup></sup></td><td>5.071<sup></sup></td><td>5.675<sup></sup></td></tr><tr><td style=\"text-align:left\"></td><td>(12.970)</td><td>(4.835)</td><td>(15.073)</td><td>(4.866)</td></tr><tr><td style=\"text-align:left\">C(WhiteNationality)[T.SLO]</td><td>6.174<sup></sup></td><td>0.369<sup></sup></td><td>0.755<sup></sup></td><td>3.252<sup></sup></td></tr><tr><td style=\"text-align:left\"></td><td>(11.927)</td><td>(4.446)</td><td>(13.862)</td><td>(4.475)</td></tr><tr><td style=\"text-align:left\">C(WhiteNationality)[T.SRB]</td><td>7.440<sup></sup></td><td>-0.129<sup></sup></td><td>3.501<sup></sup></td><td>2.699<sup></sup></td></tr><tr><td style=\"text-align:left\"></td><td>(9.554)</td><td>(3.561)</td><td>(11.103)</td><td>(3.585)</td></tr><tr><td style=\"text-align:left\">C(WhiteNationality)[T.SUI]</td><td>19.273<sup></sup></td><td>3.453<sup></sup></td><td>17.229<sup></sup></td><td>14.729<sup>***</sup></td></tr><tr><td style=\"text-align:left\"></td><td>(13.968)</td><td>(5.206)</td><td>(16.233)</td><td>(5.241)</td></tr><tr><td style=\"text-align:left\">C(WhiteNationality)[T.SVK]</td><td>11.710<sup></sup></td><td>-1.555<sup></sup></td><td>5.874<sup></sup></td><td>3.990<sup></sup></td></tr><tr><td style=\"text-align:left\"></td><td>(10.052)</td><td>(3.747)</td><td>(11.682)</td><td>(3.771)</td></tr><tr><td style=\"text-align:left\">C(WhiteNationality)[T.SWE]</td><td>9.613<sup></sup></td><td>-2.603<sup></sup></td><td>3.327<sup></sup></td><td>3.382<sup></sup></td></tr><tr><td style=\"text-align:left\"></td><td>(8.858)</td><td>(3.302)</td><td>(10.294)</td><td>(3.323)</td></tr><tr><td style=\"text-align:left\">C(WhiteNationality)[T.TTO]</td><td>-0.000<sup>*</sup></td><td>-0.000<sup>**</sup></td><td>-0.000<sup>**</sup></td><td>-0.000<sup></sup></td></tr><tr><td style=\"text-align:left\"></td><td>(0.000)</td><td>(0.000)</td><td>(0.000)</td><td>(0.000)</td></tr><tr><td style=\"text-align:left\">C(WhiteNationality)[T.TUN]</td><td>-0.000<sup></sup></td><td>-0.000<sup></sup></td><td>-0.000<sup></sup></td><td>-0.000<sup></sup></td></tr><tr><td style=\"text-align:left\"></td><td>(0.000)</td><td>(0.000)</td><td>(0.000)</td><td>(0.000)</td></tr><tr><td style=\"text-align:left\">C(WhiteNationality)[T.TUR]</td><td>0.000<sup></sup></td><td>-0.000<sup></sup></td><td>-0.000<sup></sup></td><td>0.000<sup></sup></td></tr><tr><td style=\"text-align:left\"></td><td>(0.000)</td><td>(0.000)</td><td>(0.000)</td><td>(0.000)</td></tr><tr><td style=\"text-align:left\">C(WhiteNationality)[T.UKR]</td><td>6.149<sup></sup></td><td>-4.463<sup></sup></td><td>-1.476<sup></sup></td><td>1.074<sup></sup></td></tr><tr><td style=\"text-align:left\"></td><td>(10.577)</td><td>(3.943)</td><td>(12.293)</td><td>(3.968)</td></tr><tr><td style=\"text-align:left\">C(WhiteNationality)[T.URU]</td><td>0.000<sup>**</sup></td><td>0.000<sup></sup></td><td>0.000<sup>**</sup></td><td>0.000<sup></sup></td></tr><tr><td style=\"text-align:left\"></td><td>(0.000)</td><td>(0.000)</td><td>(0.000)</td><td>(0.000)</td></tr><tr><td style=\"text-align:left\">C(WhiteNationality)[T.USA]</td><td>18.311<sup>*</sup></td><td>0.993<sup></sup></td><td>13.136<sup></sup></td><td>7.144<sup>*</sup></td></tr><tr><td style=\"text-align:left\"></td><td>(9.905)</td><td>(3.692)</td><td>(11.511)</td><td>(3.716)</td></tr><tr><td style=\"text-align:left\">C(WhiteNationality)[T.UZB]</td><td>33.964<sup>***</sup></td><td>-2.959<sup></sup></td><td>36.904<sup>***</sup></td><td>3.660<sup></sup></td></tr><tr><td style=\"text-align:left\"></td><td>(10.413)</td><td>(3.881)</td><td>(12.102)</td><td>(3.907)</td></tr><tr><td style=\"text-align:left\">C(WhiteNationality)[T.VIE]</td><td>0.000<sup></sup></td><td>-0.000<sup></sup></td><td>0.000<sup></sup></td><td>-0.000<sup></sup></td></tr><tr><td style=\"text-align:left\"></td><td>(0.000)</td><td>(0.000)</td><td>(0.000)</td><td>(0.000)</td></tr><tr><td style=\"text-align:left\">C(WhiteNationality)[T.ZIM]</td><td>-0.000<sup></sup></td><td>0.000<sup></sup></td><td>-0.000<sup></sup></td><td>0.000<sup></sup></td></tr><tr><td style=\"text-align:left\"></td><td>(0.000)</td><td>(0.000)</td><td>(0.000)</td><td>(0.000)</td></tr><tr><td style=\"text-align:left\">Intercept</td><td>582.432<sup></sup></td><td>-88.072<sup></sup></td><td>330.129<sup></sup></td><td>172.147<sup></sup></td></tr><tr><td style=\"text-align:left\"></td><td>(393.788)</td><td>(146.782)</td><td>(457.644)</td><td>(147.745)</td></tr><tr><td style=\"text-align:left\">Q('BlackElo')</td><td>0.000<sup></sup></td><td>0.000<sup></sup></td><td>0.002<sup></sup></td><td>-0.006<sup>**</sup></td></tr><tr><td style=\"text-align:left\"></td><td>(0.007)</td><td>(0.003)</td><td>(0.008)</td><td>(0.003)</td></tr><tr><td style=\"text-align:left\">Q('Date')</td><td>-0.292<sup></sup></td><td>0.058<sup></sup></td><td>-0.155<sup></sup></td><td>-0.079<sup></sup></td></tr><tr><td style=\"text-align:left\"></td><td>(0.204)</td><td>(0.076)</td><td>(0.237)</td><td>(0.077)</td></tr><tr><td style=\"text-align:left\">Q('WhiteElo')</td><td>0.000<sup></sup></td><td>-0.007<sup>**</sup></td><td>-0.002<sup></sup></td><td>-0.001<sup></sup></td></tr><tr><td style=\"text-align:left\"></td><td>(0.007)</td><td>(0.003)</td><td>(0.008)</td><td>(0.003)</td></tr><td colspan=\"5\" style=\"border-bottom: 1px solid black\"></td></tr><tr><td style=\"text-align: left\">Observations</td><td>289</td><td>289</td><td>289</td><td>289</td></tr><tr><td style=\"text-align: left\">R<sup>2</sup></td><td>0.405</td><td>0.335</td><td>0.388</td><td>0.364</td></tr><tr><td style=\"text-align: left\">Adjusted R<sup>2</sup></td><td>0.116</td><td>0.013</td><td>0.092</td><td>0.056</td></tr><tr><td style=\"text-align: left\">Residual Std. Error</td><td>10.951 (df=194)</td><td>4.082 (df=194)</td><td>12.727 (df=194)</td><td>4.109 (df=194)</td></tr><tr><td style=\"text-align: left\">F Statistic</td><td>1.403<sup>**</sup> (df=94; 194)</td><td>1.041<sup></sup> (df=94; 194)</td><td>1.311<sup>*</sup> (df=94; 194)</td><td>1.180<sup></sup> (df=94; 194)</td></tr><tr><td colspan=\"5\" style=\"border-bottom: 1px solid black\"></td></tr><tr><td style=\"text-align: left\">Note:</td>\n",
       " <td colspan=\"4\" style=\"text-align: right\">\n",
       "  <sup>*</sup>p&lt;0.1;\n",
       "  <sup>**</sup>p&lt;0.05;\n",
       "  <sup>***</sup>p&lt;0.01\n",
       " </td></tr></table>"
      ],
      "text/plain": [
       "<stargazer.stargazer.Stargazer at 0x1bbe4bf7580>"
      ]
     },
     "execution_count": 120,
     "metadata": {},
     "output_type": "execute_result"
    }
   ],
   "source": [
    "stargazer = Stargazer([res_Wgm, res_Wbm, res_Bgm, res_Bbm])\n",
    "stargazer"
   ]
  },
  {
   "cell_type": "markdown",
   "metadata": {},
   "source": [
    "# backup"
   ]
  },
  {
   "cell_type": "code",
   "execution_count": 121,
   "metadata": {},
   "outputs": [],
   "source": [
    "model = smf.ols(formula=\"Q('WGoodMoves') ~  Q('Date') + Q('BlackElo') + Q('WhiteElo') + \\\n",
    "        C(SubVariation)\", data=df)\n",
    "\n",
    "res_Wgm = model.fit()\n",
    "#res_Wgm.summary()"
   ]
  },
  {
   "cell_type": "code",
   "execution_count": 122,
   "metadata": {},
   "outputs": [],
   "source": [
    "model = smf.ols(formula=\"Q('WBadMoves') ~  Q('Date') + Q('BlackElo') + Q('WhiteElo') + \\\n",
    "        C(SubVariation)\", data=df)\n",
    "\n",
    "res_Wbm = model.fit()\n",
    "#res_Wbm.summary()"
   ]
  },
  {
   "cell_type": "code",
   "execution_count": 123,
   "metadata": {},
   "outputs": [],
   "source": [
    "model = smf.ols(formula=\"Q('BGoodMoves') ~  Q('Date') + Q('BlackElo') + Q('WhiteElo') + \\\n",
    "        C(SubVariation)\", data=df)\n",
    "\n",
    "res_Bgm = model.fit()\n",
    "#res_Bgm.summary()"
   ]
  },
  {
   "cell_type": "code",
   "execution_count": 124,
   "metadata": {},
   "outputs": [],
   "source": [
    "model = smf.ols(formula=\"Q('BBadMoves') ~  Q('Date') + Q('BlackElo') + Q('WhiteElo') + \\\n",
    "        C(SubVariation)\", data=df)\n",
    "\n",
    "res_Bbm = model.fit()\n",
    "#res_Bbm.summary()"
   ]
  },
  {
   "cell_type": "code",
   "execution_count": 125,
   "metadata": {},
   "outputs": [
    {
     "data": {
      "text/html": [
       "<table style=\"text-align:center\"><tr><td colspan=\"5\" style=\"border-bottom: 1px solid black\"></td></tr><tr><td style=\"text-align:left\"></td><tr><td style=\"text-align:left\"></td><td>(1)</td><td>(2)</td><td>(3)</td><td>(4)</td></tr><tr><td colspan=\"5\" style=\"border-bottom: 1px solid black\"></td></tr><tr><td style=\"text-align:left\">C(SubVariation)[T.9. d4 Nxe4 10. dxe5 Be6]</td><td>-5.380<sup>*</sup></td><td>0.440<sup></sup></td><td>-5.353<sup></sup></td><td>1.929<sup></sup></td></tr><tr><td style=\"text-align:left\"></td><td>(3.086)</td><td>(1.234)</td><td>(3.581)</td><td>(1.258)</td></tr><tr><td style=\"text-align:left\">C(SubVariation)[T.9. d4 exd4 10. e5 Ne4]</td><td>-7.461<sup>***</sup></td><td>0.919<sup></sup></td><td>-7.747<sup>***</sup></td><td>1.391<sup></sup></td></tr><tr><td style=\"text-align:left\"></td><td>(2.407)</td><td>(0.963)</td><td>(2.794)</td><td>(0.981)</td></tr><tr><td style=\"text-align:left\">C(SubVariation)[T.9. exd5 Nxd5 10. Nxe5 Nxe5]</td><td>-3.065<sup></sup></td><td>-1.081<sup></sup></td><td>-3.655<sup></sup></td><td>-0.186<sup></sup></td></tr><tr><td style=\"text-align:left\"></td><td>(2.120)</td><td>(0.848)</td><td>(2.461)</td><td>(0.864)</td></tr><tr><td style=\"text-align:left\">C(SubVariation)[T.9. exd5 Nxd5 10. d4 exd4]</td><td>-5.283<sup>**</sup></td><td>-0.780<sup></sup></td><td>-5.776<sup>*</sup></td><td>-1.431<sup></sup></td></tr><tr><td style=\"text-align:left\"></td><td>(2.590)</td><td>(1.036)</td><td>(3.006)</td><td>(1.056)</td></tr><tr><td style=\"text-align:left\">C(SubVariation)[T.9. exd5 e4 10. Ng5 Bg4]</td><td>-8.197<sup></sup></td><td>4.880<sup>**</sup></td><td>-10.519<sup>*</sup></td><td>5.425<sup>***</sup></td></tr><tr><td style=\"text-align:left\"></td><td>(5.064)</td><td>(2.025)</td><td>(5.876)</td><td>(2.064)</td></tr><tr><td style=\"text-align:left\">C(SubVariation)[T.9. exd5 e4 10. dxc6 exf3]</td><td>-9.789<sup>***</sup></td><td>-1.412<sup></sup></td><td>-11.905<sup>***</sup></td><td>0.673<sup></sup></td></tr><tr><td style=\"text-align:left\"></td><td>(2.729)</td><td>(1.092)</td><td>(3.167)</td><td>(1.113)</td></tr><tr><td style=\"text-align:left\">C(SubVariation)[T.Other]</td><td>-2.849<sup></sup></td><td>-0.573<sup></sup></td><td>-4.137<sup></sup></td><td>0.240<sup></sup></td></tr><tr><td style=\"text-align:left\"></td><td>(2.346)</td><td>(0.938)</td><td>(2.723)</td><td>(0.956)</td></tr><tr><td style=\"text-align:left\">Intercept</td><td>-246.489<sup>***</sup></td><td>64.004<sup>***</sup></td><td>-233.033<sup>***</sup></td><td>49.326<sup>***</sup></td></tr><tr><td style=\"text-align:left\"></td><td>(46.578)</td><td>(18.630)</td><td>(54.053)</td><td>(18.987)</td></tr><tr><td style=\"text-align:left\">Q('BlackElo')</td><td>0.001<sup></sup></td><td>-0.000<sup></sup></td><td>0.005<sup>***</sup></td><td>-0.007<sup>***</sup></td></tr><tr><td style=\"text-align:left\"></td><td>(0.002)</td><td>(0.001)</td><td>(0.002)</td><td>(0.001)</td></tr><tr><td style=\"text-align:left\">Q('Date')</td><td>0.129<sup>***</sup></td><td>-0.021<sup>**</sup></td><td>0.127<sup>***</sup></td><td>-0.015<sup></sup></td></tr><tr><td style=\"text-align:left\"></td><td>(0.023)</td><td>(0.009)</td><td>(0.027)</td><td>(0.009)</td></tr><tr><td style=\"text-align:left\">Q('WhiteElo')</td><td>0.008<sup>***</sup></td><td>-0.006<sup>***</sup></td><td>0.003<sup></sup></td><td>0.001<sup>*</sup></td></tr><tr><td style=\"text-align:left\"></td><td>(0.001)</td><td>(0.001)</td><td>(0.002)</td><td>(0.001)</td></tr><td colspan=\"5\" style=\"border-bottom: 1px solid black\"></td></tr><tr><td style=\"text-align: left\">Observations</td><td>1,975</td><td>1,975</td><td>1,975</td><td>1,975</td></tr><tr><td style=\"text-align: left\">R<sup>2</sup></td><td>0.066</td><td>0.147</td><td>0.045</td><td>0.135</td></tr><tr><td style=\"text-align: left\">Adjusted R<sup>2</sup></td><td>0.061</td><td>0.143</td><td>0.040</td><td>0.130</td></tr><tr><td style=\"text-align: left\">Residual Std. Error</td><td>11.278 (df=1964)</td><td>4.511 (df=1964)</td><td>13.088 (df=1964)</td><td>4.597 (df=1964)</td></tr><tr><td style=\"text-align: left\">F Statistic</td><td>13.929<sup>***</sup> (df=10; 1964)</td><td>33.967<sup>***</sup> (df=10; 1964)</td><td>9.236<sup>***</sup> (df=10; 1964)</td><td>30.604<sup>***</sup> (df=10; 1964)</td></tr><tr><td colspan=\"5\" style=\"border-bottom: 1px solid black\"></td></tr><tr><td style=\"text-align: left\">Note:</td>\n",
       " <td colspan=\"4\" style=\"text-align: right\">\n",
       "  <sup>*</sup>p&lt;0.1;\n",
       "  <sup>**</sup>p&lt;0.05;\n",
       "  <sup>***</sup>p&lt;0.01\n",
       " </td></tr></table>"
      ],
      "text/plain": [
       "<stargazer.stargazer.Stargazer at 0x1bbe4cfd450>"
      ]
     },
     "execution_count": 125,
     "metadata": {},
     "output_type": "execute_result"
    }
   ],
   "source": [
    "stargazer = Stargazer([res_Wgm, res_Wbm, res_Bgm, res_Bbm])\n",
    "stargazer"
   ]
  }
 ],
 "metadata": {
  "kernelspec": {
   "display_name": "Python 3.10.2 64-bit",
   "language": "python",
   "name": "python3"
  },
  "language_info": {
   "codemirror_mode": {
    "name": "ipython",
    "version": 3
   },
   "file_extension": ".py",
   "mimetype": "text/x-python",
   "name": "python",
   "nbconvert_exporter": "python",
   "pygments_lexer": "ipython3",
   "version": "3.10.2"
  },
  "orig_nbformat": 4,
  "vscode": {
   "interpreter": {
    "hash": "26de051ba29f2982a8de78e945f0abaf191376122a1563185a90213a26c5da77"
   }
  }
 },
 "nbformat": 4,
 "nbformat_minor": 2
}
