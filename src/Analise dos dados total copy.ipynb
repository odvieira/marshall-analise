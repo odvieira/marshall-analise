{
 "cells": [
  {
   "cell_type": "code",
   "execution_count": 1,
   "metadata": {},
   "outputs": [],
   "source": [
    "import pandas as pd\n",
    "import matplotlib.pyplot as plt\n",
    "import numpy as np"
   ]
  },
  {
   "cell_type": "code",
   "execution_count": 2,
   "metadata": {},
   "outputs": [],
   "source": [
    "df = pd.read_csv('../data/df_subvar.csv')"
   ]
  },
  {
   "cell_type": "code",
   "execution_count": 3,
   "metadata": {},
   "outputs": [],
   "source": [
    "df = df.loc[(df['WhiteElo'] >= 2500) | (df['WhiteElo'].isna())]\n",
    "df = df.loc[(df['BlackElo'] >= 2500) | (df['BlackElo'].isna())]"
   ]
  },
  {
   "cell_type": "code",
   "execution_count": 4,
   "metadata": {},
   "outputs": [],
   "source": [
    "df_aux = df.loc[:, ['SubVariation', 'Result']].groupby(\n",
    "    by=['SubVariation', 'Result']).agg('Result').count().to_frame()\n",
    "df_aux.rename(columns={'Result': 'Count'}, inplace=True)\n",
    "df_aux.reset_index(inplace=True)\n",
    "\n",
    "b_win = df_aux[df_aux['Result'] == '0-1']\n",
    "w_win = df_aux[df_aux['Result'] == '1-0']\n",
    "draw = df_aux[df_aux['Result'] == '1/2-1/2']\n",
    "\n",
    "results = {}\n",
    "p_results = []\n",
    "for v in df_aux['SubVariation'].unique().tolist():\n",
    "    w = w_win.loc[w_win['SubVariation'] == v, 'Count'].tolist()\n",
    "    d = draw.loc[draw['SubVariation'] == v, 'Count'].tolist()\n",
    "    b = b_win.loc[b_win['SubVariation'] == v, 'Count'].tolist()\n",
    "\n",
    "    if len(w) == 0:\n",
    "        w = 0\n",
    "    else:\n",
    "        w = w[0]\n",
    "\n",
    "    if len(d) == 0:\n",
    "        d = 0\n",
    "    else:\n",
    "        d = d[0]\n",
    "\n",
    "    if len(b) == 0:\n",
    "        b = 0\n",
    "    else:\n",
    "        b = b[0]\n",
    "\n",
    "    total = w+d+b\n",
    "\n",
    "    row = {}\n",
    "\n",
    "    row['SubVariation'] = v\n",
    "    row['Games'] = total\n",
    "    row['Results'] = tuple([w/total*100,d/total*100,b/total*100])\n",
    "    results[v] = [w/total*100,d/total*100,b/total*100]\n",
    "\n",
    "    p_results.append(row)\n",
    "\n",
    "df_results = pd.DataFrame(p_results)\n"
   ]
  },
  {
   "cell_type": "code",
   "execution_count": 5,
   "metadata": {},
   "outputs": [
    {
     "data": {
      "text/html": [
       "<div>\n",
       "<style scoped>\n",
       "    .dataframe tbody tr th:only-of-type {\n",
       "        vertical-align: middle;\n",
       "    }\n",
       "\n",
       "    .dataframe tbody tr th {\n",
       "        vertical-align: top;\n",
       "    }\n",
       "\n",
       "    .dataframe thead th {\n",
       "        text-align: right;\n",
       "    }\n",
       "</style>\n",
       "<table border=\"1\" class=\"dataframe\">\n",
       "  <thead>\n",
       "    <tr style=\"text-align: right;\">\n",
       "      <th></th>\n",
       "      <th>SubVariation</th>\n",
       "      <th>Games</th>\n",
       "      <th>Results</th>\n",
       "    </tr>\n",
       "  </thead>\n",
       "  <tbody>\n",
       "    <tr>\n",
       "      <th>0</th>\n",
       "      <td>9. Bc2 dxe4</td>\n",
       "      <td>1</td>\n",
       "      <td>(0.0, 0.0, 100.0)</td>\n",
       "    </tr>\n",
       "    <tr>\n",
       "      <th>1</th>\n",
       "      <td>9. d3 Bb7</td>\n",
       "      <td>2</td>\n",
       "      <td>(50.0, 0.0, 50.0)</td>\n",
       "    </tr>\n",
       "    <tr>\n",
       "      <th>2</th>\n",
       "      <td>9. d3 Bg4</td>\n",
       "      <td>11</td>\n",
       "      <td>(45.45454545454545, 36.36363636363637, 18.1818...</td>\n",
       "    </tr>\n",
       "    <tr>\n",
       "      <th>3</th>\n",
       "      <td>9. d3 Qd6</td>\n",
       "      <td>1</td>\n",
       "      <td>(0.0, 100.0, 0.0)</td>\n",
       "    </tr>\n",
       "    <tr>\n",
       "      <th>4</th>\n",
       "      <td>9. d3 d4</td>\n",
       "      <td>2</td>\n",
       "      <td>(50.0, 50.0, 0.0)</td>\n",
       "    </tr>\n",
       "    <tr>\n",
       "      <th>5</th>\n",
       "      <td>9. d3 dxe4</td>\n",
       "      <td>20</td>\n",
       "      <td>(20.0, 55.00000000000001, 25.0)</td>\n",
       "    </tr>\n",
       "    <tr>\n",
       "      <th>6</th>\n",
       "      <td>9. d3 h6</td>\n",
       "      <td>1</td>\n",
       "      <td>(100.0, 0.0, 0.0)</td>\n",
       "    </tr>\n",
       "    <tr>\n",
       "      <th>7</th>\n",
       "      <td>9. d4 Bg4</td>\n",
       "      <td>2</td>\n",
       "      <td>(100.0, 0.0, 0.0)</td>\n",
       "    </tr>\n",
       "    <tr>\n",
       "      <th>8</th>\n",
       "      <td>9. d4 Nxe4</td>\n",
       "      <td>13</td>\n",
       "      <td>(53.84615384615385, 23.076923076923077, 23.076...</td>\n",
       "    </tr>\n",
       "    <tr>\n",
       "      <th>9</th>\n",
       "      <td>9. d4 dxe4</td>\n",
       "      <td>20</td>\n",
       "      <td>(15.0, 70.0, 15.0)</td>\n",
       "    </tr>\n",
       "    <tr>\n",
       "      <th>10</th>\n",
       "      <td>9. d4 exd4</td>\n",
       "      <td>33</td>\n",
       "      <td>(27.27272727272727, 36.36363636363637, 36.3636...</td>\n",
       "    </tr>\n",
       "    <tr>\n",
       "      <th>11</th>\n",
       "      <td>9. exd5 Nxd5</td>\n",
       "      <td>1018</td>\n",
       "      <td>(28.585461689587426, 45.481335952848724, 25.93...</td>\n",
       "    </tr>\n",
       "    <tr>\n",
       "      <th>12</th>\n",
       "      <td>9. exd5 e4</td>\n",
       "      <td>65</td>\n",
       "      <td>(43.07692307692308, 21.53846153846154, 35.3846...</td>\n",
       "    </tr>\n",
       "    <tr>\n",
       "      <th>13</th>\n",
       "      <td>9. h3 dxe4</td>\n",
       "      <td>2</td>\n",
       "      <td>(0.0, 0.0, 100.0)</td>\n",
       "    </tr>\n",
       "  </tbody>\n",
       "</table>\n",
       "</div>"
      ],
      "text/plain": [
       "    SubVariation  Games                                            Results\n",
       "0    9. Bc2 dxe4      1                                  (0.0, 0.0, 100.0)\n",
       "1      9. d3 Bb7      2                                  (50.0, 0.0, 50.0)\n",
       "2      9. d3 Bg4     11  (45.45454545454545, 36.36363636363637, 18.1818...\n",
       "3      9. d3 Qd6      1                                  (0.0, 100.0, 0.0)\n",
       "4       9. d3 d4      2                                  (50.0, 50.0, 0.0)\n",
       "5     9. d3 dxe4     20                    (20.0, 55.00000000000001, 25.0)\n",
       "6       9. d3 h6      1                                  (100.0, 0.0, 0.0)\n",
       "7      9. d4 Bg4      2                                  (100.0, 0.0, 0.0)\n",
       "8     9. d4 Nxe4     13  (53.84615384615385, 23.076923076923077, 23.076...\n",
       "9     9. d4 dxe4     20                                 (15.0, 70.0, 15.0)\n",
       "10    9. d4 exd4     33  (27.27272727272727, 36.36363636363637, 36.3636...\n",
       "11  9. exd5 Nxd5   1018  (28.585461689587426, 45.481335952848724, 25.93...\n",
       "12    9. exd5 e4     65  (43.07692307692308, 21.53846153846154, 35.3846...\n",
       "13    9. h3 dxe4      2                                  (0.0, 0.0, 100.0)"
      ]
     },
     "execution_count": 5,
     "metadata": {},
     "output_type": "execute_result"
    }
   ],
   "source": [
    "df_results"
   ]
  },
  {
   "cell_type": "code",
   "execution_count": 6,
   "metadata": {},
   "outputs": [
    {
     "name": "stdout",
     "output_type": "stream",
     "text": [
      "['9. exd5 Nxd5', '9. exd5 e4', '9. d3 Qd6', '9. d3 dxe4', '9. d4 Nxe4', '9. d3 d4', '9. d4 exd4', '9. d4 dxe4', '9. d4 Bg4', '9. d3 Bg4', '9. d3 Bb7', '9. Bc2 dxe4', '9. d3 h6', '9. h3 dxe4']\n"
     ]
    }
   ],
   "source": [
    "print(df['SubVariation'].unique().tolist())"
   ]
  },
  {
   "cell_type": "code",
   "execution_count": 7,
   "metadata": {},
   "outputs": [
    {
     "data": {
      "image/png": "[encoded data removed]",
      "text/plain": [
       "<Figure size 1080x720 with 1 Axes>"
      ]
     },
     "metadata": {
      "needs_background": "light"
     },
     "output_type": "display_data"
    }
   ],
   "source": [
    "category_names = ['White', 'Draws', 'Black']\n",
    "\n",
    "def survey(results, category_names):\n",
    "    \"\"\"\n",
    "    Parameters\n",
    "    ----------\n",
    "    results : dict\n",
    "        A mapping from question labels to a list of answers per category.\n",
    "        It is assumed all lists contain the same number of entries and that\n",
    "        it matches the length of *category_names*.\n",
    "    category_names : list of str\n",
    "        The category labels.\n",
    "    \"\"\"\n",
    "    labels = list(results.keys())\n",
    "    data = np.array(list(results.values()))\n",
    "    data_cum = data.cumsum(axis=1)\n",
    "    category_colors = plt.colormaps['RdYlGn'](\n",
    "        np.linspace(0.15, 0.85, data.shape[1]))\n",
    "\n",
    "    fig, ax = plt.subplots(figsize=(15, 10))\n",
    "    ax.invert_yaxis()\n",
    "    ax.xaxis.set_visible(False)\n",
    "    ax.set_xlim(0, np.sum(data, axis=1).max())\n",
    "    ax.set_title('Win rate by variation')\n",
    "\n",
    "    for i, (colname, color) in enumerate(zip(category_names, category_colors)):\n",
    "        widths = data[:, i]\n",
    "        starts = data_cum[:, i] - widths\n",
    "        rects = ax.barh(labels, widths, left=starts, height=0.5,\n",
    "                        label=colname, color=color)\n",
    "\n",
    "        r, g, b, _ = color\n",
    "        text_color = 'white' if r * g * b < 0.5 else 'black'\n",
    "        ax.bar_label(rects, label_type='center', color=text_color)\n",
    "        \n",
    "    ax.legend(ncol=len(category_names), bbox_to_anchor=(0, 1),\n",
    "              loc='lower left', fontsize='small')\n",
    "\n",
    "    return fig, ax\n",
    "\n",
    "\n",
    "survey(results, category_names)\n",
    "plt.show()\n"
   ]
  }
 ],
 "metadata": {
  "kernelspec": {
   "display_name": "Python 3.10.2 64-bit",
   "language": "python",
   "name": "python3"
  },
  "language_info": {
   "codemirror_mode": {
    "name": "ipython",
    "version": 3
   },
   "file_extension": ".py",
   "mimetype": "text/x-python",
   "name": "python",
   "nbconvert_exporter": "python",
   "pygments_lexer": "ipython3",
   "version": "3.10.2"
  },
  "orig_nbformat": 4,
  "vscode": {
   "interpreter": {
    "hash": "26de051ba29f2982a8de78e945f0abaf191376122a1563185a90213a26c5da77"
   }
  }
 },
 "nbformat": 4,
 "nbformat_minor": 2
}
