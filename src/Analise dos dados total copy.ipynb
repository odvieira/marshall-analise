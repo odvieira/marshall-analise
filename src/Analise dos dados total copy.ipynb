{
 "cells": [
  {
   "cell_type": "code",
   "execution_count": 1,
   "metadata": {},
   "outputs": [],
   "source": [
    "import pandas as pd\n",
    "import matplotlib.pyplot as plt\n",
    "import numpy as np"
   ]
  },
  {
   "cell_type": "code",
   "execution_count": 2,
   "metadata": {},
   "outputs": [],
   "source": [
    "df = pd.read_csv('../data/df_subvar_9-10.csv')"
   ]
  },
  {
   "cell_type": "code",
   "execution_count": 3,
   "metadata": {},
   "outputs": [],
   "source": [
    "df = df.loc[(df['WhiteElo'] >= 2500) | (df['WhiteElo'].isna())]\n",
    "df = df.loc[(df['BlackElo'] >= 2500) | (df['BlackElo'].isna())]"
   ]
  },
  {
   "cell_type": "code",
   "execution_count": 4,
   "metadata": {},
   "outputs": [],
   "source": [
    "df_aux = df.loc[:, ['SubVariation', 'Result']].groupby(\n",
    "    by=['SubVariation', 'Result']).agg('Result').count().to_frame()\n",
    "df_aux.rename(columns={'Result': 'Count'}, inplace=True)\n",
    "df_aux.reset_index(inplace=True)"
   ]
  },
  {
   "cell_type": "code",
   "execution_count": 5,
   "metadata": {},
   "outputs": [
    {
     "data": {
      "text/html": [
       "<div>\n",
       "<style scoped>\n",
       "    .dataframe tbody tr th:only-of-type {\n",
       "        vertical-align: middle;\n",
       "    }\n",
       "\n",
       "    .dataframe tbody tr th {\n",
       "        vertical-align: top;\n",
       "    }\n",
       "\n",
       "    .dataframe thead th {\n",
       "        text-align: right;\n",
       "    }\n",
       "</style>\n",
       "<table border=\"1\" class=\"dataframe\">\n",
       "  <thead>\n",
       "    <tr style=\"text-align: right;\">\n",
       "      <th></th>\n",
       "      <th>SubVariation</th>\n",
       "      <th>Result</th>\n",
       "      <th>Count</th>\n",
       "    </tr>\n",
       "  </thead>\n",
       "  <tbody>\n",
       "    <tr>\n",
       "      <th>0</th>\n",
       "      <td>9. Bc2 dxe4 10. Bxe4 Nxe4</td>\n",
       "      <td>0-1</td>\n",
       "      <td>1</td>\n",
       "    </tr>\n",
       "    <tr>\n",
       "      <th>1</th>\n",
       "      <td>9. d3 Bb7 10. Bc2 Rc8</td>\n",
       "      <td>1-0</td>\n",
       "      <td>1</td>\n",
       "    </tr>\n",
       "    <tr>\n",
       "      <th>2</th>\n",
       "      <td>9. d3 Bb7 10. Nbd2 dxe4</td>\n",
       "      <td>0-1</td>\n",
       "      <td>1</td>\n",
       "    </tr>\n",
       "    <tr>\n",
       "      <th>3</th>\n",
       "      <td>9. d3 Bg4 10. Bg5 dxe4</td>\n",
       "      <td>1-0</td>\n",
       "      <td>1</td>\n",
       "    </tr>\n",
       "    <tr>\n",
       "      <th>4</th>\n",
       "      <td>9. d3 Bg4 10. Nbd2 dxe4</td>\n",
       "      <td>0-1</td>\n",
       "      <td>1</td>\n",
       "    </tr>\n",
       "    <tr>\n",
       "      <th>...</th>\n",
       "      <td>...</td>\n",
       "      <td>...</td>\n",
       "      <td>...</td>\n",
       "    </tr>\n",
       "    <tr>\n",
       "      <th>81</th>\n",
       "      <td>9. exd5 e4 10. dxc6 exf3</td>\n",
       "      <td>0-1</td>\n",
       "      <td>14</td>\n",
       "    </tr>\n",
       "    <tr>\n",
       "      <th>82</th>\n",
       "      <td>9. exd5 e4 10. dxc6 exf3</td>\n",
       "      <td>1-0</td>\n",
       "      <td>17</td>\n",
       "    </tr>\n",
       "    <tr>\n",
       "      <th>83</th>\n",
       "      <td>9. exd5 e4 10. dxc6 exf3</td>\n",
       "      <td>1/2-1/2</td>\n",
       "      <td>10</td>\n",
       "    </tr>\n",
       "    <tr>\n",
       "      <th>84</th>\n",
       "      <td>9. h3 dxe4 10. Ng5 Bc5</td>\n",
       "      <td>0-1</td>\n",
       "      <td>1</td>\n",
       "    </tr>\n",
       "    <tr>\n",
       "      <th>85</th>\n",
       "      <td>9. h3 dxe4 10. Ng5 Bf5</td>\n",
       "      <td>0-1</td>\n",
       "      <td>1</td>\n",
       "    </tr>\n",
       "  </tbody>\n",
       "</table>\n",
       "<p>86 rows × 3 columns</p>\n",
       "</div>"
      ],
      "text/plain": [
       "                 SubVariation   Result  Count\n",
       "0   9. Bc2 dxe4 10. Bxe4 Nxe4      0-1      1\n",
       "1       9. d3 Bb7 10. Bc2 Rc8      1-0      1\n",
       "2     9. d3 Bb7 10. Nbd2 dxe4      0-1      1\n",
       "3      9. d3 Bg4 10. Bg5 dxe4      1-0      1\n",
       "4     9. d3 Bg4 10. Nbd2 dxe4      0-1      1\n",
       "..                        ...      ...    ...\n",
       "81   9. exd5 e4 10. dxc6 exf3      0-1     14\n",
       "82   9. exd5 e4 10. dxc6 exf3      1-0     17\n",
       "83   9. exd5 e4 10. dxc6 exf3  1/2-1/2     10\n",
       "84     9. h3 dxe4 10. Ng5 Bc5      0-1      1\n",
       "85     9. h3 dxe4 10. Ng5 Bf5      0-1      1\n",
       "\n",
       "[86 rows x 3 columns]"
      ]
     },
     "execution_count": 5,
     "metadata": {},
     "output_type": "execute_result"
    }
   ],
   "source": [
    "df_aux"
   ]
  },
  {
   "cell_type": "code",
   "execution_count": 6,
   "metadata": {},
   "outputs": [],
   "source": [
    "b_win = df_aux[df_aux['Result'] == '0-1']\n",
    "w_win = df_aux[df_aux['Result'] == '1-0']\n",
    "draw = df_aux[df_aux['Result'] == '1/2-1/2']\n",
    "\n",
    "p_results = []\n",
    "for v in df_aux['SubVariation'].unique().tolist():\n",
    "    w = w_win.loc[w_win['SubVariation'] == v, 'Count'].tolist()\n",
    "    d = draw.loc[draw['SubVariation'] == v, 'Count'].tolist()\n",
    "    b = b_win.loc[b_win['SubVariation'] == v, 'Count'].tolist()\n",
    "\n",
    "    if len(w) == 0:\n",
    "        w = 0\n",
    "    else:\n",
    "        w = w[0]\n",
    "\n",
    "    if len(d) == 0:\n",
    "        d = 0\n",
    "    else:\n",
    "        d = d[0]\n",
    "\n",
    "    if len(b) == 0:\n",
    "        b = 0\n",
    "    else:\n",
    "        b = b[0]\n",
    "\n",
    "    total = w+d+b\n",
    "\n",
    "    row = {}\n",
    "\n",
    "    row['SubVariation'] = v\n",
    "    row['Games'] = total\n",
    "    row['Results'] = [w/total*100,d/total*100,b/total*100]\n",
    "\n",
    "    p_results.append(row)\n",
    "\n",
    "df_results = pd.DataFrame(p_results)\n"
   ]
  },
  {
   "cell_type": "code",
   "execution_count": 7,
   "metadata": {},
   "outputs": [
    {
     "data": {
      "text/html": [
       "<div>\n",
       "<style scoped>\n",
       "    .dataframe tbody tr th:only-of-type {\n",
       "        vertical-align: middle;\n",
       "    }\n",
       "\n",
       "    .dataframe tbody tr th {\n",
       "        vertical-align: top;\n",
       "    }\n",
       "\n",
       "    .dataframe thead th {\n",
       "        text-align: right;\n",
       "    }\n",
       "</style>\n",
       "<table border=\"1\" class=\"dataframe\">\n",
       "  <thead>\n",
       "    <tr style=\"text-align: right;\">\n",
       "      <th></th>\n",
       "      <th>SubVariation</th>\n",
       "      <th>Games</th>\n",
       "      <th>Results</th>\n",
       "    </tr>\n",
       "  </thead>\n",
       "  <tbody>\n",
       "    <tr>\n",
       "      <th>14</th>\n",
       "      <td>9. d3 dxe4 10. dxe4 Qxd1</td>\n",
       "      <td>18</td>\n",
       "      <td>[16.666666666666664, 61.111111111111114, 22.22...</td>\n",
       "    </tr>\n",
       "    <tr>\n",
       "      <th>18</th>\n",
       "      <td>9. d4 Nxe4 10. dxe5 Be6</td>\n",
       "      <td>11</td>\n",
       "      <td>[45.45454545454545, 27.27272727272727, 27.2727...</td>\n",
       "    </tr>\n",
       "    <tr>\n",
       "      <th>22</th>\n",
       "      <td>9. d4 exd4 10. e5 Ne4</td>\n",
       "      <td>31</td>\n",
       "      <td>[25.806451612903224, 38.70967741935484, 35.483...</td>\n",
       "    </tr>\n",
       "    <tr>\n",
       "      <th>27</th>\n",
       "      <td>9. exd5 Nxd5 10. Nxe5 Nxe5</td>\n",
       "      <td>957</td>\n",
       "      <td>[28.108672936259143, 46.499477533960295, 25.39...</td>\n",
       "    </tr>\n",
       "    <tr>\n",
       "      <th>40</th>\n",
       "      <td>9. exd5 Nxd5 10. d4 exd4</td>\n",
       "      <td>26</td>\n",
       "      <td>[15.384615384615385, 34.61538461538461, 50.0]</td>\n",
       "    </tr>\n",
       "    <tr>\n",
       "      <th>46</th>\n",
       "      <td>9. exd5 e4 10. Ng5 Bg4</td>\n",
       "      <td>11</td>\n",
       "      <td>[27.27272727272727, 18.181818181818183, 54.545...</td>\n",
       "    </tr>\n",
       "    <tr>\n",
       "      <th>52</th>\n",
       "      <td>9. exd5 e4 10. dxc6 exf3</td>\n",
       "      <td>41</td>\n",
       "      <td>[41.46341463414634, 24.390243902439025, 34.146...</td>\n",
       "    </tr>\n",
       "  </tbody>\n",
       "</table>\n",
       "</div>"
      ],
      "text/plain": [
       "                  SubVariation  Games  \\\n",
       "14    9. d3 dxe4 10. dxe4 Qxd1     18   \n",
       "18     9. d4 Nxe4 10. dxe5 Be6     11   \n",
       "22       9. d4 exd4 10. e5 Ne4     31   \n",
       "27  9. exd5 Nxd5 10. Nxe5 Nxe5    957   \n",
       "40    9. exd5 Nxd5 10. d4 exd4     26   \n",
       "46      9. exd5 e4 10. Ng5 Bg4     11   \n",
       "52    9. exd5 e4 10. dxc6 exf3     41   \n",
       "\n",
       "                                              Results  \n",
       "14  [16.666666666666664, 61.111111111111114, 22.22...  \n",
       "18  [45.45454545454545, 27.27272727272727, 27.2727...  \n",
       "22  [25.806451612903224, 38.70967741935484, 35.483...  \n",
       "27  [28.108672936259143, 46.499477533960295, 25.39...  \n",
       "40      [15.384615384615385, 34.61538461538461, 50.0]  \n",
       "46  [27.27272727272727, 18.181818181818183, 54.545...  \n",
       "52  [41.46341463414634, 24.390243902439025, 34.146...  "
      ]
     },
     "execution_count": 7,
     "metadata": {},
     "output_type": "execute_result"
    }
   ],
   "source": [
    "df_results = df_results[df_results['Games']>10]\n",
    "df_results"
   ]
  },
  {
   "cell_type": "code",
   "execution_count": 8,
   "metadata": {},
   "outputs": [
    {
     "data": {
      "text/plain": [
       "['9. d3 dxe4 10. dxe4 Qxd1',\n",
       " '9. d4 Nxe4 10. dxe5 Be6',\n",
       " '9. d4 exd4 10. e5 Ne4',\n",
       " '9. exd5 Nxd5 10. Nxe5 Nxe5',\n",
       " '9. exd5 Nxd5 10. d4 exd4',\n",
       " '9. exd5 e4 10. Ng5 Bg4',\n",
       " '9. exd5 e4 10. dxc6 exf3']"
      ]
     },
     "execution_count": 8,
     "metadata": {},
     "output_type": "execute_result"
    }
   ],
   "source": [
    "df_results['SubVariation'].unique().tolist()"
   ]
  },
  {
   "cell_type": "code",
   "execution_count": 9,
   "metadata": {},
   "outputs": [
    {
     "data": {
      "text/plain": [
       "{'9. d3 dxe4 10. dxe4 Qxd1': [16.666666666666664,\n",
       "  61.111111111111114,\n",
       "  22.22222222222222],\n",
       " '9. d4 Nxe4 10. dxe5 Be6': [45.45454545454545,\n",
       "  27.27272727272727,\n",
       "  27.27272727272727],\n",
       " '9. d4 exd4 10. e5 Ne4': [25.806451612903224,\n",
       "  38.70967741935484,\n",
       "  35.483870967741936],\n",
       " '9. exd5 Nxd5 10. Nxe5 Nxe5': [28.108672936259143,\n",
       "  46.499477533960295,\n",
       "  25.391849529780565],\n",
       " '9. exd5 Nxd5 10. d4 exd4': [15.384615384615385, 34.61538461538461, 50.0],\n",
       " '9. exd5 e4 10. Ng5 Bg4': [27.27272727272727,\n",
       "  18.181818181818183,\n",
       "  54.54545454545454],\n",
       " '9. exd5 e4 10. dxc6 exf3': [41.46341463414634,\n",
       "  24.390243902439025,\n",
       "  34.146341463414636]}"
      ]
     },
     "execution_count": 9,
     "metadata": {},
     "output_type": "execute_result"
    }
   ],
   "source": [
    "results = df_results.set_index('SubVariation').to_dict()['Results']\n",
    "# results = {}\n",
    "# for v in df_results['SubVariation'].unique().tolist():\n",
    "#     print('\\n---\\n')\n",
    "#     print(df_results.loc[df['SubVariation'] == v].to_dict()['Results'])\n",
    "#     print('\\n---\\n')\n",
    "#     # results[v] = df_results.loc[df['SubVariation'] == v, 'Results'].tolist()\n",
    "\n",
    "results"
   ]
  },
  {
   "cell_type": "code",
   "execution_count": 15,
   "metadata": {},
   "outputs": [
    {
     "data": {
      "image/png": "[encoded data removed]",
      "text/plain": [
       "<Figure size 576x576 with 1 Axes>"
      ]
     },
     "metadata": {},
     "output_type": "display_data"
    }
   ],
   "source": [
    "category_names = ['White', 'Draws', 'Black']\n",
    "plt.style.use('dark_background')\n",
    "\n",
    "def survey(results, category_names):\n",
    "    \"\"\"\n",
    "    Parameters\n",
    "    ----------\n",
    "    results : dict\n",
    "        A mapping from question labels to a list of answers per category.\n",
    "        It is assumed all lists contain the same number of entries and that\n",
    "        it matches the length of *category_names*.\n",
    "    category_names : list of str\n",
    "        The category labels.\n",
    "    \"\"\"\n",
    "    labels = list(results.keys())\n",
    "    data = np.array(list(results.values()))\n",
    "    data_cum = data.cumsum(axis=1)\n",
    "    category_colors = plt.colormaps['RdYlGn'](\n",
    "        np.linspace(0.15, 0.85, data.shape[1]))\n",
    "\n",
    "    fig, ax = plt.subplots(figsize=(8, 8))\n",
    "    ax.invert_yaxis()\n",
    "    ax.xaxis.set_visible(False)\n",
    "    ax.set_xlim(0, np.sum(data, axis=1).max())\n",
    "    ax.set_title('Win rate by variation', fontsize='large')\n",
    "\n",
    "    for i, (colname, color) in enumerate(zip(category_names, category_colors)):\n",
    "        widths = data[:, i]\n",
    "        starts = data_cum[:, i] - widths\n",
    "        rects = ax.barh(labels, widths, left=starts, height=0.5,\n",
    "                        label=colname, color=color)\n",
    "\n",
    "        r, g, b, _ = color\n",
    "        text_color = 'white' if r * g * b < 0.5 else 'black'\n",
    "        ax.bar_label(rects, label_type='center', color=text_color, fontsize='large', fmt='%.0f')\n",
    "        \n",
    "    ax.legend(ncol=len(category_names), bbox_to_anchor=(0, 1),\n",
    "              loc='lower right', fontsize='large')\n",
    "\n",
    "    return fig, ax\n",
    "\n",
    "\n",
    "survey(results, category_names)\n",
    "plt.show()\n"
   ]
  }
 ],
 "metadata": {
  "kernelspec": {
   "display_name": "Python 3.10.4 64-bit",
   "language": "python",
   "name": "python3"
  },
  "language_info": {
   "codemirror_mode": {
    "name": "ipython",
    "version": 3
   },
   "file_extension": ".py",
   "mimetype": "text/x-python",
   "name": "python",
   "nbconvert_exporter": "python",
   "pygments_lexer": "ipython3",
   "version": "3.10.4"
  },
  "orig_nbformat": 4,
  "vscode": {
   "interpreter": {
    "hash": "916dbcbb3f70747c44a77c7bcd40155683ae19c65e1c03b4aa3499c5328201f1"
   }
  }
 },
 "nbformat": 4,
 "nbformat_minor": 2
}
