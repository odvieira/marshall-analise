{
 "cells": [
  {
   "cell_type": "code",
   "execution_count": 1,
   "metadata": {},
   "outputs": [],
   "source": [
    "import pandas as pd\n",
    "import chess\n",
    "import chess.pgn\n",
    "import chess.engine"
   ]
  },
  {
   "cell_type": "code",
   "execution_count": 2,
   "metadata": {},
   "outputs": [],
   "source": [
    "eng = chess.engine.SimpleEngine.popen_uci(\"../../stockfish/stockfish\")"
   ]
  },
  {
   "cell_type": "code",
   "execution_count": 3,
   "metadata": {},
   "outputs": [],
   "source": [
    "p = open(\"../data/RuyLopezMarshall.pgn\")"
   ]
  },
  {
   "cell_type": "code",
   "execution_count": 4,
   "metadata": {},
   "outputs": [],
   "source": [
    "games_id = []\n",
    "games = []\n",
    "\n",
    "while True:\n",
    "    offset = p.tell()\n",
    "    headers = chess.pgn.read_headers(p)\n",
    "    if headers is None:\n",
    "        break\n",
    "    games_id.append(offset)\n",
    "\n",
    "for offset in games_id:\n",
    "    p.seek(offset)\n",
    "    games.append(chess.pgn.read_game(p))"
   ]
  },
  {
   "cell_type": "code",
   "execution_count": 5,
   "metadata": {},
   "outputs": [
    {
     "ename": "SyntaxError",
     "evalue": "invalid syntax (2586299914.py, line 74)",
     "output_type": "error",
     "traceback": [
      "\u001b[0;36m  File \u001b[0;32m\"/tmp/ipykernel_24044/2586299914.py\"\u001b[0;36m, line \u001b[0;32m74\u001b[0m\n\u001b[0;31m    engine.\u001b[0m\n\u001b[0m           ^\u001b[0m\n\u001b[0;31mSyntaxError\u001b[0m\u001b[0;31m:\u001b[0m invalid syntax\n"
     ]
    }
   ],
   "source": [
    "dados = []\n",
    "count = -1\n",
    "\n",
    "for game in games:\n",
    "    count += 1\n",
    "    row = {}\n",
    "    head = game.headers\n",
    "\n",
    "    if head['Site'].endswith(' INT') or head['Site'] == '?':\n",
    "        continue\n",
    "\n",
    "    row['id'] = games_id[count]\n",
    "    row['Event'] = head['Event']\n",
    "    row['Site'] = head['Site']\n",
    "    row['Date'] = head['Date'].split('.')[0]\n",
    "    row['White'] = head['White']\n",
    "    row['Black'] = head['Black']\n",
    "    row['Result'] = head['Result']\n",
    "    row['BlackElo'] = head['BlackElo']\n",
    "    row['ECO'] = 'C89'\n",
    "    row['WhiteElo'] = head['WhiteElo']\n",
    "    row['White Short Castle'] = 0\n",
    "    row['White Long Castle'] = 0\n",
    "    row['Black Short Castle'] = 0\n",
    "    row['Black Long Castle'] = 0\n",
    "\n",
    "    #quem ganhou\n",
    "    if head['Result'] == '0-1':\n",
    "        row['WhiteWon'] = 0\n",
    "        row['BlackWon'] = 1\n",
    "    elif head['Result'] == '1-0':\n",
    "        row['WhiteWon'] = 1\n",
    "        row['BlackWon'] = 0\n",
    "    else:\n",
    "        row['WhiteWon'] = 0\n",
    "        row['BlackWon'] = 0\n",
    "\n",
    "    #qntd de moves\n",
    "    final_position = game[0].end().board()\n",
    "    row['Moves'] = final_position.fullmove_number\n",
    "\n",
    "    #qntd de peças restantes\n",
    "    final_fen = final_position.board_fen()\n",
    "    white_count = 0\n",
    "    black_count = 0\n",
    "    white_pieces = ['P','N','B','R','Q']\n",
    "    black_pieces = ['p','n','b','r','q']\n",
    "    white_has_queen = 0\n",
    "    black_has_queen = 0\n",
    "    \n",
    "    for char in range(0, len(final_fen)):\n",
    "        if final_fen[char] in white_pieces:\n",
    "            white_count += 1\n",
    "        elif final_fen[char] in black_pieces:\n",
    "            black_count += 1\n",
    "\n",
    "        if final_fen[char] == 'Q':\n",
    "            white_has_queen = 1\n",
    "        elif final_fen[char] == 'q':\n",
    "            black_has_queen = 1\n",
    "        \n",
    "    \n",
    "    row['WhiteFinalPiecesCount'] = white_count\n",
    "    row['BlackFinalPiecesCount'] = black_count\n",
    "    row['FinalPiecesCount'] = white_count + black_count\n",
    "    \n",
    "    if white_has_queen == 0 and black_has_queen == 0:\n",
    "        row['QueenTrade'] = 1\n",
    "    else:\n",
    "        row['QueenTrade'] = 0\n",
    "\n",
    "    \n",
    "    for move in game[0].mainline_moves():\n",
    "        eng.analysis\n",
    "\n",
    "        if move.uci() == 'e1g1':\n",
    "            row['White Short Castle'] = 1\n",
    "        elif move.uci() == 'e1c1':\n",
    "            row['White Long Castle'] = 1\n",
    "        elif move.uci() == 'e1g1':\n",
    "            row['Black Short Castle'] = 1\n",
    "        elif move.uci() == 'e1c1':\n",
    "            row['Black Long Castle'] = 1\n",
    "            \n",
    "        \n",
    "    dados.append(row)  \n",
    "     \n",
    "df = pd.DataFrame(dados)"
   ]
  },
  {
   "cell_type": "code",
   "execution_count": null,
   "metadata": {},
   "outputs": [],
   "source": [
    "#corrigir places/Sites\n",
    "def string_analyzer(row):\n",
    "    s = row['Site']\n",
    "    splitted_s = s.split(' ')\n",
    "    first_part = splitted_s[:-1]\n",
    "    last_part = splitted_s[-1]\n",
    "    city = ''\n",
    "\n",
    "    if last_part.isupper() and len(splitted_s) > 1:\n",
    "        for w in first_part:\n",
    "            city += w + ' '\n",
    "    else:\n",
    "        city = s\n",
    "\n",
    "    row['Site'] = city\n",
    "\n",
    "    return row\n",
    "\n",
    "df = df.apply(lambda row: string_analyzer(row=row), axis=1)"
   ]
  }
 ],
 "metadata": {
  "kernelspec": {
   "display_name": "Python 3.10.4 64-bit",
   "language": "python",
   "name": "python3"
  },
  "language_info": {
   "codemirror_mode": {
    "name": "ipython",
    "version": 3
   },
   "file_extension": ".py",
   "mimetype": "text/x-python",
   "name": "python",
   "nbconvert_exporter": "python",
   "pygments_lexer": "ipython3",
   "version": "3.10.4"
  },
  "orig_nbformat": 4,
  "vscode": {
   "interpreter": {
    "hash": "916dbcbb3f70747c44a77c7bcd40155683ae19c65e1c03b4aa3499c5328201f1"
   }
  }
 },
 "nbformat": 4,
 "nbformat_minor": 2
}
