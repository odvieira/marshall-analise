{
 "cells": [
  {
   "cell_type": "code",
   "execution_count": 1,
   "metadata": {},
   "outputs": [],
   "source": [
    "import pandas as pd\n",
    "import chess\n",
    "import chess.pgn\n",
    "import chess.engine\n",
    "import asyncio"
   ]
  },
  {
   "cell_type": "code",
   "execution_count": 2,
   "metadata": {},
   "outputs": [],
   "source": [
    "eng = chess.engine.SimpleEngine.popen_uci(\"../../stockfish/stockfish\")"
   ]
  },
  {
   "cell_type": "code",
   "execution_count": 3,
   "metadata": {},
   "outputs": [],
   "source": [
    "p = open(\"../data/RuyLopezMarshall.pgn\")"
   ]
  },
  {
   "cell_type": "code",
   "execution_count": 4,
   "metadata": {},
   "outputs": [],
   "source": [
    "games_id = []\n",
    "games = []\n",
    "\n",
    "while True:\n",
    "    offset = p.tell()\n",
    "    headers = chess.pgn.read_headers(p)\n",
    "    if headers is None:\n",
    "        break\n",
    "    games_id.append(offset)\n",
    "\n",
    "for offset in games_id:\n",
    "    p.seek(offset)\n",
    "    games.append(chess.pgn.read_game(p))"
   ]
  },
  {
   "cell_type": "code",
   "execution_count": 5,
   "metadata": {},
   "outputs": [],
   "source": [
    "dados = []\n",
    "count = -1\n",
    "\n",
    "for game in games[:2]:\n",
    "    count += 1\n",
    "    row = {}\n",
    "    head = game.headers\n",
    "\n",
    "    if head['Site'].endswith(' INT') or head['Site'] == '?':\n",
    "        continue\n",
    "\n",
    "    row['id'] = games_id[count]\n",
    "    row['Event'] = head['Event']\n",
    "    row['Site'] = head['Site']\n",
    "    row['Date'] = head['Date'].split('.')[0]\n",
    "    row['White'] = head['White']\n",
    "    row['Black'] = head['Black']\n",
    "    row['Result'] = head['Result']\n",
    "    row['BlackElo'] = head['BlackElo']\n",
    "    row['ECO'] = 'C89'\n",
    "    row['WhiteElo'] = head['WhiteElo']\n",
    "    row['White Short Castle'] = 0\n",
    "    row['White Long Castle'] = 0\n",
    "    row['Black Short Castle'] = 0\n",
    "    row['Black Long Castle'] = 0\n",
    "    row['Opposite side castling'] = 0\n",
    "    row['Evals'] = []\n",
    "\n",
    "    # quem ganhou\n",
    "    if head['Result'] == '0-1':\n",
    "        row['WhiteWon'] = 0\n",
    "        row['BlackWon'] = 1\n",
    "    elif head['Result'] == '1-0':\n",
    "        row['WhiteWon'] = 1\n",
    "        row['BlackWon'] = 0\n",
    "    else:\n",
    "        row['WhiteWon'] = 0\n",
    "        row['BlackWon'] = 0\n",
    "\n",
    "    # qntd de moves\n",
    "    final_position = game[0].end().board()\n",
    "    row['Moves'] = final_position.fullmove_number\n",
    "\n",
    "    # qntd de peças restantes\n",
    "    final_fen = final_position.board_fen()\n",
    "    white_count = 0\n",
    "    black_count = 0\n",
    "    white_pieces = ['P', 'N', 'B', 'R', 'Q']\n",
    "    black_pieces = ['p', 'n', 'b', 'r', 'q']\n",
    "    white_has_queen = 0\n",
    "    black_has_queen = 0\n",
    "\n",
    "    for char in range(0, len(final_fen)):\n",
    "        if final_fen[char] in white_pieces:\n",
    "            white_count += 1\n",
    "        elif final_fen[char] in black_pieces:\n",
    "            black_count += 1\n",
    "\n",
    "        if final_fen[char] == 'Q':\n",
    "            white_has_queen = 1\n",
    "        elif final_fen[char] == 'q':\n",
    "            black_has_queen = 1\n",
    "\n",
    "    row['WhiteFinalPiecesCount'] = white_count\n",
    "    row['BlackFinalPiecesCount'] = black_count\n",
    "    row['FinalPiecesCount'] = white_count + black_count\n",
    "\n",
    "    if white_has_queen == 0 and black_has_queen == 0:\n",
    "        row['QueenTrade'] = 1\n",
    "    else:\n",
    "        row['QueenTrade'] = 0\n",
    "\n",
    "    board = game[0].board()\n",
    "    info = eng.analyse(board, chess.engine.Limit(time=0.1))\n",
    "    row['Evals'].append(info['score'].white().score(mate_score=100000))\n",
    "\n",
    "    for move in game[0].mainline_moves():        \n",
    "        board.push(move)\n",
    "        info = eng.analyse(board, chess.engine.Limit(time=0.1))\n",
    "        row['Evals'].append(info['score'].white().score(mate_score=100000))\n",
    "\n",
    "        m = move.uci()\n",
    "\n",
    "        flag_wking_move = 0\n",
    "        flag_bking_move = 0\n",
    "\n",
    "        if m[:2] == 'e1' and flag_wking_move == 0:\n",
    "            flag_wking_move = 1\n",
    "\n",
    "            if m == 'e1g1':\n",
    "                row['White Short Castle'] = 1\n",
    "            elif m == 'e1c1':\n",
    "                row['White Long Castle'] = 1\n",
    "\n",
    "        elif m[:2] == 'e8' and flag_bking_move == 0:\n",
    "            flag_bking_move = 1\n",
    "\n",
    "            if m == 'e8g8':\n",
    "                row['Black Short Castle'] = 1\n",
    "            elif m == 'e8c8':\n",
    "                row['Black Long Castle'] = 1\n",
    "\n",
    "        if (row['White Short Castle'] == 1 and row['Black Long Castle'] == 1) or \\\n",
    "                (row['Black Short Castle'] == 1 and row['White Long Castle'] == 1):\n",
    "            row['Opposite side castling'] = 1\n",
    "    \n",
    "    dados.append(row)\n",
    "\n",
    "eng.quit()\n",
    "df = pd.DataFrame(dados)\n"
   ]
  },
  {
   "cell_type": "code",
   "execution_count": 6,
   "metadata": {},
   "outputs": [
    {
     "name": "stdout",
     "output_type": "stream",
     "text": [
      "[35, 29, 34, 41, 35, 39, 46, 50, 29, 67, 60, 84, 64, 57, 36, 46, 63, 55, 0, -4, -1, 53, 22, 55, -61, -26, -45, -33, -118, -83, -145, -58, -99, -228, -339, -51, -43, -37, -42, -20, -21, 0, 8, -2, -50, -28, -60, -60, -53, -28, -89, 0, 0, 0, 0, 0, 0, 0, 0, 0, 0, 0, 0, -7, -23, -37, -55, -50, -58, -27, -134, -135, -319, -254, -284, -308, -322, -326, -364, -334, -357, -374, -333, -399, -383, -391, -387, -404, -402, 0, -382, -219, -227, -189, -229, -274, -268, -286, -295, -297, -299, -167, -175, -77, -199, -209, -207, -218, -214, -225, -241, -189, -227, -92, -84, -112, -108, -120, -147, -107, -248, -204, -276, -201, -332, -142, -182, -173, -171, -112, -181, -215, -275, -318, -326, -383, -398, -494, -536, -537, -641, -589, -648, -657, -745, -730, -806, -833, -853, -874, -886, -915, -1025, -1028, -1147, -1169, -1167, -1223, -1251, -1259, -1675, -1857, -1969, -2938, -6173, -99977, -99987, -99988]\n"
     ]
    }
   ],
   "source": [
    "print(df['Evals'][0])"
   ]
  },
  {
   "cell_type": "code",
   "execution_count": 7,
   "metadata": {},
   "outputs": [],
   "source": [
    "# corrigir places/Sites\n",
    "def string_analyzer(row):\n",
    "    s = row['Site']\n",
    "    splitted_s = s.split(' ')\n",
    "    first_part = splitted_s[:-1]\n",
    "    last_part = splitted_s[-1]\n",
    "    city = ''\n",
    "\n",
    "    if last_part.isupper() and len(splitted_s) > 1:\n",
    "        for w in first_part:\n",
    "            city += w + ' '\n",
    "    else:\n",
    "        city = s\n",
    "\n",
    "    row['Site'] = city\n",
    "\n",
    "    return row\n",
    "\n",
    "\n",
    "df = df.apply(lambda row: string_analyzer(row=row), axis=1)\n"
   ]
  }
 ],
 "metadata": {
  "kernelspec": {
   "display_name": "Python 3.10.4 64-bit",
   "language": "python",
   "name": "python3"
  },
  "language_info": {
   "codemirror_mode": {
    "name": "ipython",
    "version": 3
   },
   "file_extension": ".py",
   "mimetype": "text/x-python",
   "name": "python",
   "nbconvert_exporter": "python",
   "pygments_lexer": "ipython3",
   "version": "3.10.4"
  },
  "orig_nbformat": 4,
  "vscode": {
   "interpreter": {
    "hash": "916dbcbb3f70747c44a77c7bcd40155683ae19c65e1c03b4aa3499c5328201f1"
   }
  }
 },
 "nbformat": 4,
 "nbformat_minor": 2
}
