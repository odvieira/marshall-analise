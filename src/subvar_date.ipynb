{
 "cells": [
  {
   "cell_type": "code",
   "execution_count": 1,
   "metadata": {},
   "outputs": [],
   "source": [
    "import pandas as pd"
   ]
  },
  {
   "cell_type": "code",
   "execution_count": 2,
   "metadata": {},
   "outputs": [],
   "source": [
    "df = pd.read_csv('../data/df_subvar.csv')"
   ]
  },
  {
   "cell_type": "code",
   "execution_count": 3,
   "metadata": {},
   "outputs": [
    {
     "data": {
      "text/html": [
       "<div>\n",
       "<style scoped>\n",
       "    .dataframe tbody tr th:only-of-type {\n",
       "        vertical-align: middle;\n",
       "    }\n",
       "\n",
       "    .dataframe tbody tr th {\n",
       "        vertical-align: top;\n",
       "    }\n",
       "\n",
       "    .dataframe thead th {\n",
       "        text-align: right;\n",
       "    }\n",
       "</style>\n",
       "<table border=\"1\" class=\"dataframe\">\n",
       "  <thead>\n",
       "    <tr style=\"text-align: right;\">\n",
       "      <th></th>\n",
       "      <th>id</th>\n",
       "      <th>Event</th>\n",
       "      <th>Site</th>\n",
       "      <th>Date</th>\n",
       "      <th>White</th>\n",
       "      <th>Black</th>\n",
       "      <th>Result</th>\n",
       "      <th>BlackElo</th>\n",
       "      <th>ECO</th>\n",
       "      <th>WhiteElo</th>\n",
       "      <th>...</th>\n",
       "      <th>B&lt;=100</th>\n",
       "      <th>B&lt;=200</th>\n",
       "      <th>B&lt;=500</th>\n",
       "      <th>B&gt;500</th>\n",
       "      <th>Wprojection</th>\n",
       "      <th>Bprojection</th>\n",
       "      <th>DifProjection</th>\n",
       "      <th>Plays</th>\n",
       "      <th>SubVariation</th>\n",
       "      <th>Mainline</th>\n",
       "    </tr>\n",
       "  </thead>\n",
       "  <tbody>\n",
       "    <tr>\n",
       "      <th>0</th>\n",
       "      <td>0</td>\n",
       "      <td>New York</td>\n",
       "      <td>New York</td>\n",
       "      <td>1918</td>\n",
       "      <td>Morrison, John Stuart</td>\n",
       "      <td>Marshall, Frank James</td>\n",
       "      <td>0-1</td>\n",
       "      <td>NaN</td>\n",
       "      <td>C89</td>\n",
       "      <td>NaN</td>\n",
       "      <td>...</td>\n",
       "      <td>6</td>\n",
       "      <td>4</td>\n",
       "      <td>2</td>\n",
       "      <td>0</td>\n",
       "      <td>1152</td>\n",
       "      <td>-49307</td>\n",
       "      <td>-48155</td>\n",
       "      <td>1. e4 e5 2. Nf3 Nc6 3. Bb5 a6 4. Ba4 Nf6 5. O-...</td>\n",
       "      <td>9. exd5</td>\n",
       "      <td>['e4', 'e5', 'Nf3', 'Nc6', 'Bb5', 'a6', 'Ba4',...</td>\n",
       "    </tr>\n",
       "  </tbody>\n",
       "</table>\n",
       "<p>1 rows × 41 columns</p>\n",
       "</div>"
      ],
      "text/plain": [
       "   id     Event      Site  Date                  White                  Black  \\\n",
       "0   0  New York  New York  1918  Morrison, John Stuart  Marshall, Frank James   \n",
       "\n",
       "  Result  BlackElo  ECO  WhiteElo  ...  B<=100  B<=200  B<=500  B>500  \\\n",
       "0    0-1       NaN  C89       NaN  ...       6       4       2      0   \n",
       "\n",
       "   Wprojection  Bprojection  DifProjection  \\\n",
       "0         1152       -49307         -48155   \n",
       "\n",
       "                                               Plays  SubVariation  \\\n",
       "0  1. e4 e5 2. Nf3 Nc6 3. Bb5 a6 4. Ba4 Nf6 5. O-...       9. exd5   \n",
       "\n",
       "                                            Mainline  \n",
       "0  ['e4', 'e5', 'Nf3', 'Nc6', 'Bb5', 'a6', 'Ba4',...  \n",
       "\n",
       "[1 rows x 41 columns]"
      ]
     },
     "execution_count": 3,
     "metadata": {},
     "output_type": "execute_result"
    }
   ],
   "source": [
    "df.head(1)"
   ]
  },
  {
   "cell_type": "code",
   "execution_count": 4,
   "metadata": {},
   "outputs": [],
   "source": [
    "sub_variations = df['SubVariation'].unique().tolist()\n",
    "\n",
    "for v in sub_variations:\n",
    "    df_subvar = df.loc[df['SubVariation'] == v]\n",
    "\n",
    "    df.loc[df['SubVariation'] == v, 'SubVar Origin Date'] = \\\n",
    "        df_subvar[df_subvar['Date'] == df_subvar['Date'].min()].iloc[0]['Date']\n",
    "\n",
    "    df.loc[df['SubVariation'] == v, 'SubVar Origin Site'] = \\\n",
    "        df_subvar[df_subvar['Date'] == df_subvar['Date'].min()].iloc[0]['Site']"
   ]
  },
  {
   "cell_type": "code",
   "execution_count": 5,
   "metadata": {},
   "outputs": [
    {
     "data": {
      "text/html": [
       "<div>\n",
       "<style scoped>\n",
       "    .dataframe tbody tr th:only-of-type {\n",
       "        vertical-align: middle;\n",
       "    }\n",
       "\n",
       "    .dataframe tbody tr th {\n",
       "        vertical-align: top;\n",
       "    }\n",
       "\n",
       "    .dataframe thead th {\n",
       "        text-align: right;\n",
       "    }\n",
       "</style>\n",
       "<table border=\"1\" class=\"dataframe\">\n",
       "  <thead>\n",
       "    <tr style=\"text-align: right;\">\n",
       "      <th></th>\n",
       "      <th>id</th>\n",
       "      <th>Event</th>\n",
       "      <th>Site</th>\n",
       "      <th>Date</th>\n",
       "      <th>White</th>\n",
       "      <th>Black</th>\n",
       "      <th>Result</th>\n",
       "      <th>BlackElo</th>\n",
       "      <th>ECO</th>\n",
       "      <th>WhiteElo</th>\n",
       "      <th>...</th>\n",
       "      <th>B&lt;=500</th>\n",
       "      <th>B&gt;500</th>\n",
       "      <th>Wprojection</th>\n",
       "      <th>Bprojection</th>\n",
       "      <th>DifProjection</th>\n",
       "      <th>Plays</th>\n",
       "      <th>SubVariation</th>\n",
       "      <th>Mainline</th>\n",
       "      <th>SubVar Origin Date</th>\n",
       "      <th>SubVar Origin Site</th>\n",
       "    </tr>\n",
       "  </thead>\n",
       "  <tbody>\n",
       "    <tr>\n",
       "      <th>0</th>\n",
       "      <td>0</td>\n",
       "      <td>New York</td>\n",
       "      <td>New York</td>\n",
       "      <td>1918</td>\n",
       "      <td>Morrison, John Stuart</td>\n",
       "      <td>Marshall, Frank James</td>\n",
       "      <td>0-1</td>\n",
       "      <td>NaN</td>\n",
       "      <td>C89</td>\n",
       "      <td>NaN</td>\n",
       "      <td>...</td>\n",
       "      <td>2</td>\n",
       "      <td>0</td>\n",
       "      <td>1152</td>\n",
       "      <td>-49307</td>\n",
       "      <td>-48155</td>\n",
       "      <td>1. e4 e5 2. Nf3 Nc6 3. Bb5 a6 4. Ba4 Nf6 5. O-...</td>\n",
       "      <td>9. exd5</td>\n",
       "      <td>['e4', 'e5', 'Nf3', 'Nc6', 'Bb5', 'a6', 'Ba4',...</td>\n",
       "      <td>1918.0</td>\n",
       "      <td>New York</td>\n",
       "    </tr>\n",
       "  </tbody>\n",
       "</table>\n",
       "<p>1 rows × 43 columns</p>\n",
       "</div>"
      ],
      "text/plain": [
       "   id     Event      Site  Date                  White                  Black  \\\n",
       "0   0  New York  New York  1918  Morrison, John Stuart  Marshall, Frank James   \n",
       "\n",
       "  Result  BlackElo  ECO  WhiteElo  ...  B<=500  B>500  Wprojection  \\\n",
       "0    0-1       NaN  C89       NaN  ...       2      0         1152   \n",
       "\n",
       "   Bprojection  DifProjection  \\\n",
       "0       -49307         -48155   \n",
       "\n",
       "                                               Plays  SubVariation  \\\n",
       "0  1. e4 e5 2. Nf3 Nc6 3. Bb5 a6 4. Ba4 Nf6 5. O-...       9. exd5   \n",
       "\n",
       "                                            Mainline  SubVar Origin Date  \\\n",
       "0  ['e4', 'e5', 'Nf3', 'Nc6', 'Bb5', 'a6', 'Ba4',...              1918.0   \n",
       "\n",
       "   SubVar Origin Site  \n",
       "0            New York  \n",
       "\n",
       "[1 rows x 43 columns]"
      ]
     },
     "execution_count": 5,
     "metadata": {},
     "output_type": "execute_result"
    }
   ],
   "source": [
    "df"
   ]
  }
 ],
 "metadata": {
  "kernelspec": {
   "display_name": "Python 3.10.4 64-bit",
   "language": "python",
   "name": "python3"
  },
  "language_info": {
   "codemirror_mode": {
    "name": "ipython",
    "version": 3
   },
   "file_extension": ".py",
   "mimetype": "text/x-python",
   "name": "python",
   "nbconvert_exporter": "python",
   "pygments_lexer": "ipython3",
   "version": "3.10.4"
  },
  "orig_nbformat": 4,
  "vscode": {
   "interpreter": {
    "hash": "916dbcbb3f70747c44a77c7bcd40155683ae19c65e1c03b4aa3499c5328201f1"
   }
  }
 },
 "nbformat": 4,
 "nbformat_minor": 2
}
