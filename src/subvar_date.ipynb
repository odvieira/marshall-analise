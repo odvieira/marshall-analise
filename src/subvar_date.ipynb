{
 "cells": [
  {
   "cell_type": "code",
   "execution_count": null,
   "metadata": {},
   "outputs": [],
   "source": [
    "import pandas as pd"
   ]
  },
  {
   "cell_type": "code",
   "execution_count": null,
   "metadata": {},
   "outputs": [],
   "source": [
    "df = pd.read_csv('../data/df_subvar.csv')"
   ]
  },
  {
   "cell_type": "code",
   "execution_count": null,
   "metadata": {},
   "outputs": [],
   "source": [
    "df.loc[(df['SubVariation'] == '9. exd5') & (df['Date'] == df['Date'].min())].iloc[0]['Date']\n",
    "\n",
    "sub_variations = df['SubVariation'].unique().tolist()\n",
    "\n",
    "for v in sub_variations:\n",
    "    print(\n",
    "        df[df['SubVariation'] == v]['SubVariation Origin Site'] = df.loc[(df['SubVariation'] == '9. exd5') & (df['Date'] == df['Date'].min())].iloc[0]['Date']\n",
    "    )"
   ]
  }
 ],
 "metadata": {
  "language_info": {
   "name": "python"
  },
  "orig_nbformat": 4
 },
 "nbformat": 4,
 "nbformat_minor": 2
}
