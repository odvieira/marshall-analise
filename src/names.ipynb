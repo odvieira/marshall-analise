{
 "cells": [
  {
   "cell_type": "code",
   "execution_count": 1,
   "metadata": {},
   "outputs": [
    {
     "name": "stderr",
     "output_type": "stream",
     "text": [
      "/home/dvieira/.local/lib/python3.10/site-packages/tqdm/auto.py:22: TqdmWarning: IProgress not found. Please update jupyter and ipywidgets. See https://ipywidgets.readthedocs.io/en/stable/user_install.html\n",
      "  from .autonotebook import tqdm as notebook_tqdm\n"
     ]
    }
   ],
   "source": [
    "from io import open\n",
    "import os, string, random, time, math\n",
    "import matplotlib.pyplot as plt\n",
    "import seaborn as sns\n",
    "import numpy as np\n",
    "from sklearn.model_selection import train_test_split\n",
    "import torch \n",
    "import torch.nn as nn\n",
    "import torch.optim as optim\n",
    "from IPython.display import clear_output"
   ]
  },
  {
   "cell_type": "code",
   "execution_count": 2,
   "metadata": {},
   "outputs": [
    {
     "name": "stdout",
     "output_type": "stream",
     "text": [
      "Number of  Names:  20050\n",
      "Number of Languages:  18\n",
      "All languages:  ['Portuguese', 'Irish', 'Spanish', 'Vietnamese', 'Chinese', 'Greek', 'Czech', 'Dutch', 'Japanese', 'French', 'German', 'Scottish', 'English', 'Russian', 'Polish', 'Arabic', 'Korean', 'Italian']\n"
     ]
    }
   ],
   "source": [
    "languages = []\n",
    "data = []\n",
    "X = []\n",
    "y = []\n",
    " \n",
    "with open(\"../data/name2lang.txt\", 'r') as f:\n",
    "    #read the dataset\n",
    "    for line in f:\n",
    "        line = line.split(\",\")\n",
    "        name = line[0].strip()\n",
    "        lang = line[1].strip()\n",
    "        if not lang in languages:\n",
    "            languages.append(lang)\n",
    "        X.append(name)\n",
    "        y.append(lang)\n",
    "        data.append((name, lang))\n",
    " \n",
    "n_languages = len(languages)\n",
    "print(\"Number of  Names: \", len(X))\n",
    "print(\"Number of Languages: \",n_languages)\n",
    "# print(\"All Names: \", X)\n",
    "print(\"All languages: \",languages)\n",
    "# print(\"Final Data: \", data)"
   ]
  },
  {
   "cell_type": "code",
   "execution_count": 3,
   "metadata": {},
   "outputs": [
    {
     "name": "stdout",
     "output_type": "stream",
     "text": [
      "Training Data:  16040\n",
      "Testing Data:  4010\n"
     ]
    }
   ],
   "source": [
    "X_train, X_test, y_train, y_test = train_test_split(X, y, test_size = 0.2, random_state = 123, stratify = y)\n",
    "print(\"Training Data: \", len(X_train))\n",
    "print(\"Testing Data: \", len(X_test))"
   ]
  },
  {
   "cell_type": "code",
   "execution_count": 4,
   "metadata": {},
   "outputs": [
    {
     "name": "stdout",
     "output_type": "stream",
     "text": [
      "abcdefghijklmnopqrstuvwxyzABCDEFGHIJKLMNOPQRSTUVWXYZ\n"
     ]
    }
   ],
   "source": [
    "all_letters = string.ascii_letters + \".,;\"\n",
    "print(string.ascii_letters)\n",
    "n_letters = len(all_letters)\n",
    " \n",
    "def name_rep(name):\n",
    "  rep = torch.zeros(len(name), 1, n_letters)\n",
    "  for index, letter in enumerate(name):\n",
    "    pos = all_letters.find(letter)\n",
    "    rep[index][0][pos] = 1\n",
    "  return rep"
   ]
  }
 ],
 "metadata": {
  "kernelspec": {
   "display_name": "Python 3.10.4 64-bit",
   "language": "python",
   "name": "python3"
  },
  "language_info": {
   "codemirror_mode": {
    "name": "ipython",
    "version": 3
   },
   "file_extension": ".py",
   "mimetype": "text/x-python",
   "name": "python",
   "nbconvert_exporter": "python",
   "pygments_lexer": "ipython3",
   "version": "3.10.4"
  },
  "orig_nbformat": 4,
  "vscode": {
   "interpreter": {
    "hash": "916dbcbb3f70747c44a77c7bcd40155683ae19c65e1c03b4aa3499c5328201f1"
   }
  }
 },
 "nbformat": 4,
 "nbformat_minor": 2
}
