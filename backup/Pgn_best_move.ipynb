{
 "cells": [
  {
   "cell_type": "code",
   "execution_count": 1,
   "metadata": {},
   "outputs": [],
   "source": [
    "import pandas as pd\n",
    "import chess\n",
    "import chess.pgn\n",
    "import chess.engine\n",
    "import asyncio"
   ]
  },
  {
   "cell_type": "code",
   "execution_count": 2,
   "metadata": {},
   "outputs": [],
   "source": [
    "eng = chess.engine.SimpleEngine.popen_uci(\"../../stockfish/stockfish\")"
   ]
  },
  {
   "cell_type": "code",
   "execution_count": 3,
   "metadata": {},
   "outputs": [],
   "source": [
    "p = open(\"../data/RuyLopezMarshall.pgn\")"
   ]
  },
  {
   "cell_type": "code",
   "execution_count": 4,
   "metadata": {},
   "outputs": [],
   "source": [
    "games_id = []\n",
    "games = []\n",
    "\n",
    "while True:\n",
    "    offset = p.tell()\n",
    "    headers = chess.pgn.read_headers(p)\n",
    "    if headers is None:\n",
    "        break\n",
    "    games_id.append(offset)\n",
    "\n",
    "for offset in games_id:\n",
    "    p.seek(offset)\n",
    "    games.append(chess.pgn.read_game(p))"
   ]
  },
  {
   "cell_type": "code",
   "execution_count": 5,
   "metadata": {},
   "outputs": [],
   "source": [
    "dados = []\n",
    "count = -1\n",
    "\n",
    "for game in games[:2]:\n",
    "    count += 1\n",
    "    row = {}\n",
    "    head = game.headers\n",
    "\n",
    "    if head['Site'].endswith(' INT') or head['Site'] == '?':\n",
    "        continue\n",
    "\n",
    "    row['id'] = games_id[count]\n",
    "    row['Event'] = head['Event']\n",
    "    row['Site'] = head['Site']\n",
    "    row['Date'] = head['Date'].split('.')[0]\n",
    "    row['White'] = head['White']\n",
    "    row['Black'] = head['Black']\n",
    "    row['Result'] = head['Result']\n",
    "    row['BlackElo'] = head['BlackElo']\n",
    "    row['ECO'] = 'C89'\n",
    "    row['WhiteElo'] = head['WhiteElo']\n",
    "    row['White Short Castle'] = 0\n",
    "    row['White Long Castle'] = 0\n",
    "    row['Black Short Castle'] = 0\n",
    "    row['Black Long Castle'] = 0\n",
    "    row['Opposite side castling'] = 0\n",
    "    row['Evals'] = []\n",
    "\n",
    "    # quem ganhou\n",
    "    if head['Result'] == '0-1':\n",
    "        row['WhiteWon'] = 0\n",
    "        row['BlackWon'] = 1\n",
    "    elif head['Result'] == '1-0':\n",
    "        row['WhiteWon'] = 1\n",
    "        row['BlackWon'] = 0\n",
    "    else:\n",
    "        row['WhiteWon'] = 0\n",
    "        row['BlackWon'] = 0\n",
    "\n",
    "    # qntd de moves\n",
    "    final_position = game[0].end().board()\n",
    "    row['Moves'] = final_position.fullmove_number\n",
    "\n",
    "    # qntd de peças restantes\n",
    "    final_fen = final_position.board_fen()\n",
    "    white_count = 0\n",
    "    black_count = 0\n",
    "    white_pieces = ['P', 'N', 'B', 'R', 'Q']\n",
    "    black_pieces = ['p', 'n', 'b', 'r', 'q']\n",
    "    white_has_queen = 0\n",
    "    black_has_queen = 0\n",
    "\n",
    "    for char in range(0, len(final_fen)):\n",
    "        if final_fen[char] in white_pieces:\n",
    "            white_count += 1\n",
    "        elif final_fen[char] in black_pieces:\n",
    "            black_count += 1\n",
    "\n",
    "        if final_fen[char] == 'Q':\n",
    "            white_has_queen = 1\n",
    "        elif final_fen[char] == 'q':\n",
    "            black_has_queen = 1\n",
    "\n",
    "    row['WhiteFinalPiecesCount'] = white_count\n",
    "    row['BlackFinalPiecesCount'] = black_count\n",
    "    row['FinalPiecesCount'] = white_count + black_count\n",
    "\n",
    "    if white_has_queen == 0 and black_has_queen == 0:\n",
    "        row['QueenTrade'] = 1\n",
    "    else:\n",
    "        row['QueenTrade'] = 0\n",
    "\n",
    "    board = game[0].board()\n",
    "    info = eng.analyse(board, chess.engine.Limit(time=0.1))\n",
    "    row['Evals'].append(tuple([board.peek().uci(), info['score'].white().score(mate_score=100000), info['pv'][0].uci()]))\n",
    "\n",
    "    flag_wking_move = 0\n",
    "    flag_bking_move = 0\n",
    "\n",
    "    for move in game[0].mainline_moves():\n",
    "        m = move.uci()\n",
    "\n",
    "        board.push(move)\n",
    "        info = eng.analyse(board, chess.engine.Limit(time=0.1))\n",
    "        row['Evals'].append((tuple([m, info['score'].white().score(mate_score=100000), info['pv'][0].uci()])))\n",
    "\n",
    "        if m[:2] == 'e1' and flag_wking_move == 0:\n",
    "            flag_wking_move = 1\n",
    "\n",
    "            if m == 'e1g1':\n",
    "                row['White Short Castle'] = 1\n",
    "            elif m == 'e1c1':\n",
    "                row['White Long Castle'] = 1\n",
    "\n",
    "        elif m[:2] == 'e8' and flag_bking_move == 0:\n",
    "            flag_bking_move = 1\n",
    "\n",
    "            if m == 'e8g8':\n",
    "                row['Black Short Castle'] = 1\n",
    "            elif m == 'e8c8':\n",
    "                row['Black Long Castle'] = 1\n",
    "\n",
    "        if (row['White Short Castle'] == 1 and row['Black Long Castle'] == 1) or \\\n",
    "                (row['Black Short Castle'] == 1 and row['White Long Castle'] == 1):\n",
    "            row['Opposite side castling'] = 1\n",
    "    \n",
    "    dados.append(row)\n",
    "\n",
    "eng.quit()\n",
    "df = pd.DataFrame(dados)\n"
   ]
  },
  {
   "cell_type": "code",
   "execution_count": 6,
   "metadata": {},
   "outputs": [
    {
     "name": "stdout",
     "output_type": "stream",
     "text": [
      "[('e2e4', 35, 'c7c5'), ('e7e5', 47, 'g1f3'), ('g1f3', 35, 'b8c6'), ('b8c6', 43, 'f1b5'), ('f1b5', 36, 'g8f6'), ('a7a6', 59, 'b5a4'), ('b5a4', 52, 'g8f6'), ('g8f6', 51, 'e1g1'), ('e1g1', 52, 'b7b5'), ('f8e7', 71, 'f1e1'), ('f1e1', 43, 'b7b5'), ('b7b5', 46, 'a4b3'), ('a4b3', 35, 'e8g8'), ('e8g8', 51, 'c2c3'), ('c2c3', 27, 'd7d5'), ('d7d5', 37, 'd2d4'), ('e4d5', 28, 'f6d5'), ('f6d5', 14, 'a2a4'), ('d2d4', -9, 'e5d4'), ('e5d4', -1, 'f3d4'), ('c3d4', -25, 'c8g4'), ('e7b4', 71, 'c1g5'), ('c1d2', 21, 'b4d2'), ('c8g4', 70, 'h2h3'), ('b1c3', -36, 'd5f6'), ('d5f6', -33, 'd2e3'), ('d2e3', -16, 'f8e8'), ('g4f3', -37, 'd1f3'), ('g2f3', -114, 'f8e8'), ('d8d7', -102, 'a2a3'), ('d4d5', -181, 'c6e7'), ('c6e7', -124, 'e3g5'), ('e3g5', -183, 'd7h3'), ('d7h3', -296, 'd1d4'), ('g5f6', -356, 'b4d6'), ('g7f6', -30, 'd1d4'), ('d1d4', -39, 'a6a5'), ('b4d6', -33, 'd4g4'), ('d4g4', -33, 'h3g4'), ('h3g4', -40, 'f3g4'), ('f3g4', -39, 'f6f5'), ('e7g6', 0, 'c3e4'), ('c3e4', -3, 'd6e5'), ('d6e5', 1, 'a1c1'), ('a1b1', -26, 'g6f4'), ('g6f4', -42, 'e4g3'), ('g4g5', -73, 'f6g5'), ('f6g5', -50, 'e4g5'), ('e4g5', -55, 'f4g6'), ('a8e8', -51, 'b1d1'), ('e1e3', -83, 'e5f6'), ('h7h6', 0, 'b1e1'), ('b1e1', 0, 'h6g5'), ('h6g5', 0, 'e3e5'), ('e3e5', 0, 'e8e5'), ('e8e5', -7, 'e1e5'), ('e1e5', 0, 'g8g7'), ('g8g7', 0, 'e5g5'), ('e5g5', 0, 'g7f6'), ('g7f6', 0, 'g5g4'), ('g5g4', 0, 'f6e5'), ('f6e5', 0, 'g4g5'), ('h2h4', 0, 'f8h8'), ('a6a5', -3, 'h4h5'), ('a2a3', -12, 'f8h8'), ('f8h8', -13, 'g4g7'), ('f2f3', -37, 'a5a4'), ('f7f5', -64, 'g4g7'), ('g4g7', -41, 'a5a4'), ('e5d6', -19, 'b3c2'), ('g1f2', -187, 'h8e8'), ('h8e8', -126, 'g7h7'), ('g7f7', -318, 'a5a4'), ('e8e2', -250, 'f2g3'), ('f2g3', -312, 'f4h5'), ('f4h5', -295, 'g3h3'), ('g3h3', -337, 'e2b2'), ('h5f4', -284, 'h3g3'), ('h3g3', -318, 'f4h5'), ('f4h5', -315, 'g3h3'), ('g3h3', -294, 'e2b2'), ('e2b2', -312, 'b3d1'), ('b3d1', -308, 'd6e5'), ('h5f4', -305, 'h3g3'), ('h3g3', -358, 'f4h5'), ('f4h5', -309, 'g3h3'), ('g3h3', -355, 'd6e5'), ('d6e5', -377, 'f7e7'), ('f7e7', -397, 'e5f4'), ('e5d6', 0, 'e7f7'), ('e7f7', -387, 'd6e5'), ('h5f4', -198, 'h3g3'), ('h3g3', -214, 'f4d5'), ('f4d5', -210, 'h4h5'), ('h4h5', -207, 'f5f4'), ('f5f4', -252, 'g3h3'), ('g3h3', -243, 'b2b1'), ('b2b1', -276, 'd1e2'), ('d1e2', -264, 'b5b4'), ('b1h1', -289, 'h3g4'), ('h3g4', -290, 'b5b4'), ('d6e6', -106, 'f7f8'), ('f7f8', -195, 'd5f6'), ('h1g1', -100, 'g4h4'), ('g4h3', -192, 'g1h1'), ('g1h1', -214, 'h3g4'), ('h3g4', -237, 'd5f6'), ('d5f6', -235, 'g4f4'), ('g4f4', -229, 'h1h5'), ('h1h5', -218, 'f8a8'), ('f4e3', -251, 'c7c6'), ('f6d5', -199, 'e3d4'), ('e3d4', -208, 'c7c6'), ('e6e7', -59, 'f8c8'), ('f3f4', -82, 'h5h2'), ('h5h2', -126, 'f8b8'), ('f8c8', -131, 'h2e2'), ('h2e2', -164, 'd4d5'), ('d4d5', -148, 'e7d7'), ('e2c2', -135, 'f4f5'), ('c8b8', -289, 'a5a4'), ('c7c6', -234, 'd5e5'), ('d5e5', -285, 'c2e2'), ('c2c5', -176, 'e5d4'), ('e5e4', -368, 'a5a4'), ('c5c3', -137, 'a3a4'), ('a3a4', -102, 'b5b4'), ('b5a4', -122, 'b8b1'), ('b8a8', -161, 'c3c5'), ('c3c5', -126, 'a8h8'), ('a8h8', -222, 'a4a3'), ('a4a3', -194, 'h8h2'), ('h8h7', -292, 'e7d6'), ('e7d6', -312, 'h7h6'), ('h7h6', -353, 'd6c7'), ('d6c7', -319, 'h6h1'), ('h6h7', -457, 'c7b6'), ('c7b6', -441, 'h7h1'), ('h7h2', -591, 'c5c4'), ('c5b5', -603, 'h2h1'), ('h2a2', -656, 'b5b4'), ('b5b4', -656, 'e4e5'), ('e4e5', -665, 'b4b3'), ('b4b3', -796, 'e5e4'), ('f4f5', -716, 'b6b5'), ('b6b5', -738, 'e5e4'), ('f5f6', -759, 'b3f3'), ('b3f3', -846, 'e5e6'), ('e5e6', -862, 'c6c5'), ('b5a4', -720, 'a2c2'), ('f6f7', -785, 'c6c5'), ('a4b3', -893, 'a2g2'), ('a2g2', -1031, 'a3a2'), ('a3a2', -1080, 'g2g1'), ('g2g3', -1187, 'f3g3'), ('f3g3', -1249, 'f7f8q'), ('f7f8q', -1288, 'g3e3'), ('g3e3', -1159, 'e6d7'), ('e6d7', -1324, 'e3d3'), ('e3d3', -1382, 'd7e8'), ('d7c6', -1727, 'a2a1q'), ('a2a1q', -1978, 'f8g8'), ('f8f7', -2186, 'b3a3'), ('b3a3', -2208, 'f7e7'), ('f7f8', -99963, 'a3a4'), ('a3a4', -6171, 'f8f4'), ('f8f4', -99984, 'a1d4'), ('a1d4', -99986, 'f4d4')]\n"
     ]
    }
   ],
   "source": [
    "print(df['Evals'][0])"
   ]
  },
  {
   "cell_type": "code",
   "execution_count": 7,
   "metadata": {},
   "outputs": [],
   "source": [
    "# corrigir places/Sites\n",
    "def string_analyzer(row):\n",
    "    s = row['Site']\n",
    "    splitted_s = s.split(' ')\n",
    "    first_part = splitted_s[:-1]\n",
    "    last_part = splitted_s[-1]\n",
    "    city = ''\n",
    "\n",
    "    if last_part.isupper() and len(splitted_s) > 1:\n",
    "        for w in first_part:\n",
    "            city += w + ' '\n",
    "    else:\n",
    "        city = s\n",
    "\n",
    "    row['Site'] = city\n",
    "\n",
    "    return row\n",
    "\n",
    "\n",
    "df = df.apply(lambda row: string_analyzer(row=row), axis=1)\n"
   ]
  }
 ],
 "metadata": {
  "kernelspec": {
   "display_name": "Python 3.10.4 64-bit",
   "language": "python",
   "name": "python3"
  },
  "language_info": {
   "codemirror_mode": {
    "name": "ipython",
    "version": 3
   },
   "file_extension": ".py",
   "mimetype": "text/x-python",
   "name": "python",
   "nbconvert_exporter": "python",
   "pygments_lexer": "ipython3",
   "version": "3.10.4"
  },
  "orig_nbformat": 4,
  "vscode": {
   "interpreter": {
    "hash": "916dbcbb3f70747c44a77c7bcd40155683ae19c65e1c03b4aa3499c5328201f1"
   }
  }
 },
 "nbformat": 4,
 "nbformat_minor": 2
}
